{
  "nbformat": 4,
  "nbformat_minor": 0,
  "metadata": {
    "colab": {
      "provenance": [],
      "toc_visible": true,
      "authorship_tag": "ABX9TyPudWgIzfQ/J8mcy3bErkYr",
      "include_colab_link": true
    },
    "kernelspec": {
      "name": "python3",
      "display_name": "Python 3"
    },
    "language_info": {
      "name": "python"
    }
  },
  "cells": [
    {
      "cell_type": "markdown",
      "metadata": {
        "id": "view-in-github",
        "colab_type": "text"
      },
      "source": [
        "<a href=\"https://colab.research.google.com/github/adithya1010/Naan-Mudhalvan-Labs/blob/main/NaanMudhalvan_Lab_1.ipynb\" target=\"_parent\"><img src=\"https://colab.research.google.com/assets/colab-badge.svg\" alt=\"Open In Colab\"/></a>"
      ]
    },
    {
      "cell_type": "markdown",
      "source": [
        "### Mean, Median, Mode\n",
        "\n"
      ],
      "metadata": {
        "id": "XJTcBNMNcCOC"
      }
    },
    {
      "cell_type": "code",
      "execution_count": null,
      "metadata": {
        "colab": {
          "base_uri": "https://localhost:8080/"
        },
        "id": "KpOPUZRxZCtk",
        "outputId": "7d6dd5b2-10bb-4024-e81c-2f5b52136d65"
      },
      "outputs": [
        {
          "output_type": "stream",
          "name": "stdout",
          "text": [
            "89.76923076923077\n"
          ]
        }
      ],
      "source": [
        "# Mean\n",
        "import numpy\n",
        "\n",
        "speed = [99,86,87,88,111,86,103,87,94,78,77,85,86]\n",
        "\n",
        "x = numpy.mean(speed)\n",
        "\n",
        "print(x)"
      ]
    },
    {
      "cell_type": "code",
      "source": [
        "# Median\n",
        "import numpy\n",
        "\n",
        "speed = [99,86,87,88,111,86,103,87,94,78,77,85,86]\n",
        "\n",
        "x = numpy.median(speed)\n",
        "\n",
        "print(x)"
      ],
      "metadata": {
        "colab": {
          "base_uri": "https://localhost:8080/"
        },
        "id": "IILcuANqbfnS",
        "outputId": "423b0372-5ed7-43ac-e5d9-356a15a6dec7"
      },
      "execution_count": null,
      "outputs": [
        {
          "output_type": "stream",
          "name": "stdout",
          "text": [
            "87.0\n"
          ]
        }
      ]
    },
    {
      "cell_type": "code",
      "source": [
        "# Mode\n",
        "from scipy import stats\n",
        "\n",
        "speed = [99,86,87,88,111,86,103,87,94,78,77,85,86]\n",
        "\n",
        "x = stats.mode(speed)\n",
        "\n",
        "print(x)"
      ],
      "metadata": {
        "colab": {
          "base_uri": "https://localhost:8080/"
        },
        "id": "mU4ft9U8bi3-",
        "outputId": "5ee080ce-c3b8-407e-8d7b-40edd00fc732"
      },
      "execution_count": null,
      "outputs": [
        {
          "output_type": "stream",
          "name": "stdout",
          "text": [
            "ModeResult(mode=86, count=3)\n"
          ]
        }
      ]
    },
    {
      "cell_type": "markdown",
      "source": [
        "### Range"
      ],
      "metadata": {
        "id": "iqyTo2J6ckvF"
      }
    },
    {
      "cell_type": "code",
      "source": [
        "# Range\n",
        "import numpy\n",
        "\n",
        "values = [13,21,21,40,48,55,72]\n",
        "\n",
        "x = numpy.ptp(values)\n",
        "\n",
        "print(x)"
      ],
      "metadata": {
        "colab": {
          "base_uri": "https://localhost:8080/"
        },
        "id": "L8k7NF9cb3oN",
        "outputId": "22a44d55-edf5-4434-81a3-4ce140bc5777"
      },
      "execution_count": null,
      "outputs": [
        {
          "output_type": "stream",
          "name": "stdout",
          "text": [
            "59\n"
          ]
        }
      ]
    },
    {
      "cell_type": "markdown",
      "source": [
        "### Interquartile Range"
      ],
      "metadata": {
        "id": "H9eOCbDncdH1"
      }
    },
    {
      "cell_type": "code",
      "source": [
        "import numpy as np\n",
        "\n",
        "# Sample dataset\n",
        "data = np.array([1, 2, 3, 4, 5, 6, 7, 8, 9, 10])\n",
        "\n",
        "# Calculate Interquartile Range (IQR) using numpy\n",
        "q1 = np.percentile(data, 25)\n",
        "q3 = np.percentile(data, 75)\n",
        "iqr = q3 - q1\n",
        "\n",
        "# Calculate Quartile Deviation\n",
        "quartile_deviation = (q3 - q1) / 2\n",
        "\n",
        "print(\"Interquartile Range (IQR):\", iqr)\n",
        "print(\"Quartile Deviation:\", quartile_deviation)"
      ],
      "metadata": {
        "colab": {
          "base_uri": "https://localhost:8080/"
        },
        "id": "fR4brvxTc6oD",
        "outputId": "013cc989-0a32-4e19-fc40-999ce57238cb"
      },
      "execution_count": null,
      "outputs": [
        {
          "output_type": "stream",
          "name": "stdout",
          "text": [
            "Interquartile Range (IQR): 4.5\n",
            "Quartile Deviation: 2.25\n"
          ]
        }
      ]
    },
    {
      "cell_type": "markdown",
      "source": [
        "\n",
        "\n",
        "\n",
        "\n",
        "### Skewness and Variance\n",
        "\n",
        "**Skewness:**\n",
        "\n",
        "Skewness is a measure of asymmetry or distortion of symmetric distribution. It measures the deviation of the given distribution of a random variable from a symmetric distribution, such as normal distribution. A normal distribution is without any skewness, as it is symmetrical on both sides.\n",
        "\n",
        "**Variance:**\n",
        "Variance is a statistical measurement of the spread between numbers in a data set. It measures how far each number in the set is from the mean (average), and thus from every other number in the set. Variance is often depicted by this symbol: σ2.\n",
        "\n"
      ],
      "metadata": {
        "id": "x6MTrd_GhloZ"
      }
    },
    {
      "cell_type": "code",
      "source": [
        "import numpy as np\n",
        "from scipy.stats import skew\n",
        "\n",
        "data = np.array([1, 2, 3, 4, 5])\n",
        "skewness = skew(data)\n",
        "print(skewness)\n"
      ],
      "metadata": {
        "colab": {
          "base_uri": "https://localhost:8080/"
        },
        "id": "P2oKENt-duYj",
        "outputId": "5adeba1e-04a8-455c-dc36-81d75ec7264d"
      },
      "execution_count": null,
      "outputs": [
        {
          "output_type": "stream",
          "name": "stdout",
          "text": [
            "0.0\n"
          ]
        }
      ]
    },
    {
      "cell_type": "code",
      "source": [
        "# Python code to demonstrate the working of\n",
        "# variance() function of Statistics Module\n",
        "\n",
        "# Importing Statistics module\n",
        "import statistics\n",
        "\n",
        "# Creating a sample of data\n",
        "sample = [2.74, 1.23, 2.63, 2.22, 3, 1.98]\n",
        "\n",
        "# Prints variance of the sample set\n",
        "\n",
        "# Function will automatically calculate\n",
        "# it's mean and set it as xbar\n",
        "print(\"Variance of sample set is % s\"\n",
        "      %(statistics.variance(sample)))"
      ],
      "metadata": {
        "id": "gmIOfp6Bd76G",
        "colab": {
          "base_uri": "https://localhost:8080/"
        },
        "outputId": "368fea5c-9144-4c4f-be50-5535459281c0"
      },
      "execution_count": null,
      "outputs": [
        {
          "output_type": "stream",
          "name": "stdout",
          "text": [
            "Variance of sample set is 0.40924000000000005\n"
          ]
        }
      ]
    },
    {
      "cell_type": "markdown",
      "source": [
        "### Standard Deviation"
      ],
      "metadata": {
        "id": "SOx3LPJGcAB8"
      }
    },
    {
      "cell_type": "markdown",
      "source": [
        "The standard deviation is a measure of the amount of variation or dispersion from the average of a set of values. In Python, you can calculate the standard deviation using the numpy library. Here's an example:"
      ],
      "metadata": {
        "id": "T8wpzQICuxIa"
      }
    },
    {
      "cell_type": "code",
      "source": [
        "import numpy as np\n",
        "\n",
        "numbers = [1, 2, 3, 4, 5]\n",
        "std_dev = np.std(numbers)\n",
        "print(std_dev)\n"
      ],
      "metadata": {
        "colab": {
          "base_uri": "https://localhost:8080/"
        },
        "id": "6OxzPVJLarAL",
        "outputId": "b86d48c7-0d7d-43ca-e936-8123c7182e55"
      },
      "execution_count": null,
      "outputs": [
        {
          "output_type": "stream",
          "name": "stdout",
          "text": [
            "1.4142135623730951\n"
          ]
        }
      ]
    },
    {
      "cell_type": "markdown",
      "source": [
        "### Kurtosis\n",
        "\n",
        "Here's more on kurtosis python\n",
        "\n",
        "Kurtosis is a statistical measure that describes the shape of a probability distribution. It measures the \"tailedness\" or \"peakedness\" of a distribution. In Python, you can calculate kurtosis using the scipy.stats library. Specifically, you can use the kurtosis() function from the scipy.stats module. Here's an example:"
      ],
      "metadata": {
        "id": "PCdv11PKiuH5"
      }
    },
    {
      "cell_type": "code",
      "source": [
        "import scipy.stats as stats\n",
        "data = [1, 2, 3, 4, 5, 6, 7, 8, 9, 10]\n",
        "kurt = stats.kurtosis(data)\n",
        "print(kurt)\n"
      ],
      "metadata": {
        "colab": {
          "base_uri": "https://localhost:8080/"
        },
        "id": "in4smfajfmZI",
        "outputId": "8de137c5-8d19-4ff8-eadf-00d21a4a3d73"
      },
      "execution_count": null,
      "outputs": [
        {
          "output_type": "stream",
          "name": "stdout",
          "text": [
            "-1.2242424242424244\n"
          ]
        }
      ]
    },
    {
      "cell_type": "markdown",
      "source": [
        "### Gaussian Distribution\n",
        "A Gaussian distribution, also known as a normal distribution, is a probability distribution that is symmetric about the mean, showing that data near the mean are more frequent in occurrence than data far from the mean. In a Gaussian distribution, the majority of the data points cluster around the mean, with the frequency of data points decreasing as you move away from the mean in either direction. This distribution is commonly seen in many natural phenomena, such as the heights of people in a population or the errors in measurement.\n",
        "\n",
        "That code snippet generates 1000 random numbers from a standard normal distribution (mean=0, standard deviation=1) using NumPy, then calculates and prints the sample mean and sample standard deviation. Because it uses random sampling, the output will vary on each execution.\n",
        "\n",
        "Here's a breakdown:\n",
        "\n",
        "numpy.random.normal(loc=0, scale=1, size=1000): This line generates the random numbers.\n",
        "\n",
        "loc=0: Specifies the mean of the distribution (0 for a standard normal).\n",
        "scale=1: Specifies the standard deviation of the distribution (1 for a standard normal).\n",
        "size=1000: Specifies the number of random numbers to generate (1000 in this case).\n",
        "numpy.mean(samples): This calculates the mean (average) of the generated samples.\n",
        "\n",
        "numpy.std(samples): This calculates the sample standard deviation of the generated samples. Note that NumPy's std function, by default, uses the sample standard deviation (dividing by n-1), which is the unbiased estimator of the population standard deviation.\n",
        "\n"
      ],
      "metadata": {
        "id": "du45AYlJjono"
      }
    },
    {
      "cell_type": "code",
      "source": [
        "import numpy as np\n",
        "\n",
        "# Generate random samples from a Gaussian distribution\n",
        "samples = np.random.normal(loc=0, scale=1, size=1000)\n",
        "\n",
        "# Print the mean and standard deviation of the samples\n",
        "print(\"Mean:\", np.mean(samples))\n",
        "print(\"Standard Deviation:\", np.std(samples))\n"
      ],
      "metadata": {
        "colab": {
          "base_uri": "https://localhost:8080/"
        },
        "id": "r3N90LHrjvcp",
        "outputId": "fbe94f3e-ea8a-4134-d1a6-a2333a2d404d"
      },
      "execution_count": null,
      "outputs": [
        {
          "output_type": "stream",
          "name": "stdout",
          "text": [
            "Mean: -0.04181702325316189\n",
            "Standard Deviation: 0.9867163504249882\n"
          ]
        }
      ]
    },
    {
      "cell_type": "markdown",
      "source": [],
      "metadata": {
        "id": "5q4eUI8Ojz01"
      }
    }
  ]
}