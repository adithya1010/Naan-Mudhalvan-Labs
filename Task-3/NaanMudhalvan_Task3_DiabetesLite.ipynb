{
  "nbformat": 4,
  "nbformat_minor": 0,
  "metadata": {
    "colab": {
      "provenance": [],
      "toc_visible": true,
      "authorship_tag": "ABX9TyNn536Ot0tsmZ/ysS6yTKgW",
      "include_colab_link": true
    },
    "kernelspec": {
      "name": "python3",
      "display_name": "Python 3"
    },
    "language_info": {
      "name": "python"
    }
  },
  "cells": [
    {
      "cell_type": "markdown",
      "metadata": {
        "id": "view-in-github",
        "colab_type": "text"
      },
      "source": [
        "<a href=\"https://colab.research.google.com/github/adithya1010/Naan-Mudhalvan-Labs/blob/main/Task-3/NaanMudhalvan_Task3_DiabetesLite.ipynb\" target=\"_parent\"><img src=\"https://colab.research.google.com/assets/colab-badge.svg\" alt=\"Open In Colab\"/></a>"
      ]
    },
    {
      "cell_type": "markdown",
      "source": [
        "# **Task-3-Diabetes Classification Lite**\n",
        "\n",
        "Project done with inputs from Gemini 1.5 Flash\n",
        "\n",
        "**Link to Chat:**\n",
        "\n",
        "1. https://www.getmerlin.in/share/chat/3GQOQs7vFV5\n"
      ],
      "metadata": {
        "id": "aFrCyi7X28Ws"
      }
    },
    {
      "cell_type": "code",
      "execution_count": null,
      "metadata": {
        "id": "16VEwq1UQChE"
      },
      "outputs": [],
      "source": [
        "import pandas as pd\n",
        "import numpy as np\n",
        "from sklearn.model_selection import train_test_split\n",
        "from sklearn.linear_model import LogisticRegression\n",
        "from sklearn.impute import SimpleImputer\n",
        "from sklearn.metrics import classification_report, confusion_matrix\n",
        "from imblearn.over_sampling import RandomOverSampler # Simpler oversampling than SMOTE\n"
      ]
    },
    {
      "cell_type": "markdown",
      "source": [
        "### Initializing data\n"
      ],
      "metadata": {
        "id": "ZO40xesKR_Yw"
      }
    },
    {
      "cell_type": "code",
      "source": [
        "\n",
        "# Sample data (REPLACE with your actual data)\n",
        "data = {'BMI': [28, 24, 32, 26, 29, np.nan, 27, 30, 25, 23, 25, 30, 28, 22, 35],\n",
        "        'Glucose': [120, 95, 140, 100, 115, 130, 105, 145, 90, 85, 110, 150, 125, 92, 160],\n",
        "        'Age': [45, 32, 50, 40, 48, 35, 42, 55, 30, 38, 40, 52, 48, 35, 60],\n",
        "        'Diabetes': [1, 0, 1, 0, 1, 1, 0, 1, 0, 0, 1, 1, 1, 0, 1]}\n",
        "df = pd.DataFrame(data)\n"
      ],
      "metadata": {
        "id": "ODTfAJY8Q-Ik"
      },
      "execution_count": null,
      "outputs": []
    },
    {
      "cell_type": "markdown",
      "source": [
        "Imputation is a statistical technique used to replace missing data with estimated values. This method helps maintain data integrity and accuracy, particularly in large datasets where missing values can significantly impact analysis and decision-making. There are various imputation methods, including:\n",
        "\n",
        "Mean/Median/Mode imputation: Replaces missing values with the mean, median, or mode of the existing data.\n",
        "Regression imputation: Uses a regression model to predict missing values based on other variables.\n",
        "Multiple imputation: Creates multiple versions of the dataset with different imputed values to account for uncertainty.\n",
        "Effective imputation requires understanding the data distribution and selecting the most suitable method."
      ],
      "metadata": {
        "id": "ByoF83lmRa3a"
      }
    },
    {
      "cell_type": "markdown",
      "source": [
        "### Data Preprocessing"
      ],
      "metadata": {
        "id": "BdCaTIPESJV-"
      }
    },
    {
      "cell_type": "code",
      "source": [
        "# 1. Handle Missing Values (Simple Imputation)\n",
        "imputer = SimpleImputer(strategy='mean')\n",
        "df['BMI'] = imputer.fit_transform(df[['BMI']])"
      ],
      "metadata": {
        "id": "_LwHC_S1RC9Q"
      },
      "execution_count": null,
      "outputs": []
    },
    {
      "cell_type": "code",
      "source": [
        "# 2. Separate Features and Target\n",
        "X = df[['BMI', 'Glucose','Age']]\n",
        "y = df['Diabetes']\n"
      ],
      "metadata": {
        "id": "Spns_ZWURuRU"
      },
      "execution_count": null,
      "outputs": []
    },
    {
      "cell_type": "markdown",
      "source": [
        "Random oversampling involves duplicating instances from the minority classes, thereby increasing their representation in the dataset and achieving a more balanced distribution across all classes"
      ],
      "metadata": {
        "id": "UC1dRwldcF1J"
      }
    },
    {
      "cell_type": "markdown",
      "source": [
        "### Handling Class Imbalance"
      ],
      "metadata": {
        "id": "do1WATvISqKI"
      }
    },
    {
      "cell_type": "code",
      "source": [
        "# 3. Handle Class Imbalance (Random Oversampling)\n",
        "oversampler = RandomOverSampler(random_state = 42)\n",
        "X_resampled, y_resampled = oversampler.fit_resample(X,y)"
      ],
      "metadata": {
        "id": "JwFUi3s0Srq8"
      },
      "execution_count": null,
      "outputs": []
    },
    {
      "cell_type": "markdown",
      "source": [
        "### Split data"
      ],
      "metadata": {
        "id": "HVyhTbjIStaA"
      }
    },
    {
      "cell_type": "code",
      "source": [
        "# 4. Split data\n",
        "X_train, X_test, y_train, y_test = train_test_split(X_resampled, y_resampled, test_size=0.2, random_state=42)"
      ],
      "metadata": {
        "id": "aVSGnSFaWfhe"
      },
      "execution_count": null,
      "outputs": []
    },
    {
      "cell_type": "markdown",
      "source": [
        "### Training Model"
      ],
      "metadata": {
        "id": "q3yZfZ4DS3x4"
      }
    },
    {
      "cell_type": "markdown",
      "source": [
        "Convergence in logistic regression refers to the point at which the model's parameters no longer change significantly during the training process. This occurs when the model has learned the underlying relationships between the input variables and the target variable, and further training does not improve the model's performance. In logistic regression, convergence is typically assessed by monitoring the change in the model's log likelihood or loss function over time."
      ],
      "metadata": {
        "id": "ldD9rMGncwQH"
      }
    },
    {
      "cell_type": "code",
      "source": [
        "# 5. Train a Simple Logistic Regression Model\n",
        "model = LogisticRegression(max_iter=1000) # Increased max_iter to ensure convergence\n",
        "model.fit(X_train, y_train)"
      ],
      "metadata": {
        "colab": {
          "base_uri": "https://localhost:8080/",
          "height": 80
        },
        "id": "kLnvYQlaXL2F",
        "outputId": "3ceb4bf4-95fb-4dd4-e52f-3754e8792b4c"
      },
      "execution_count": null,
      "outputs": [
        {
          "output_type": "execute_result",
          "data": {
            "text/plain": [
              "LogisticRegression(max_iter=1000)"
            ],
            "text/html": [
              "<style>#sk-container-id-1 {\n",
              "  /* Definition of color scheme common for light and dark mode */\n",
              "  --sklearn-color-text: #000;\n",
              "  --sklearn-color-text-muted: #666;\n",
              "  --sklearn-color-line: gray;\n",
              "  /* Definition of color scheme for unfitted estimators */\n",
              "  --sklearn-color-unfitted-level-0: #fff5e6;\n",
              "  --sklearn-color-unfitted-level-1: #f6e4d2;\n",
              "  --sklearn-color-unfitted-level-2: #ffe0b3;\n",
              "  --sklearn-color-unfitted-level-3: chocolate;\n",
              "  /* Definition of color scheme for fitted estimators */\n",
              "  --sklearn-color-fitted-level-0: #f0f8ff;\n",
              "  --sklearn-color-fitted-level-1: #d4ebff;\n",
              "  --sklearn-color-fitted-level-2: #b3dbfd;\n",
              "  --sklearn-color-fitted-level-3: cornflowerblue;\n",
              "\n",
              "  /* Specific color for light theme */\n",
              "  --sklearn-color-text-on-default-background: var(--sg-text-color, var(--theme-code-foreground, var(--jp-content-font-color1, black)));\n",
              "  --sklearn-color-background: var(--sg-background-color, var(--theme-background, var(--jp-layout-color0, white)));\n",
              "  --sklearn-color-border-box: var(--sg-text-color, var(--theme-code-foreground, var(--jp-content-font-color1, black)));\n",
              "  --sklearn-color-icon: #696969;\n",
              "\n",
              "  @media (prefers-color-scheme: dark) {\n",
              "    /* Redefinition of color scheme for dark theme */\n",
              "    --sklearn-color-text-on-default-background: var(--sg-text-color, var(--theme-code-foreground, var(--jp-content-font-color1, white)));\n",
              "    --sklearn-color-background: var(--sg-background-color, var(--theme-background, var(--jp-layout-color0, #111)));\n",
              "    --sklearn-color-border-box: var(--sg-text-color, var(--theme-code-foreground, var(--jp-content-font-color1, white)));\n",
              "    --sklearn-color-icon: #878787;\n",
              "  }\n",
              "}\n",
              "\n",
              "#sk-container-id-1 {\n",
              "  color: var(--sklearn-color-text);\n",
              "}\n",
              "\n",
              "#sk-container-id-1 pre {\n",
              "  padding: 0;\n",
              "}\n",
              "\n",
              "#sk-container-id-1 input.sk-hidden--visually {\n",
              "  border: 0;\n",
              "  clip: rect(1px 1px 1px 1px);\n",
              "  clip: rect(1px, 1px, 1px, 1px);\n",
              "  height: 1px;\n",
              "  margin: -1px;\n",
              "  overflow: hidden;\n",
              "  padding: 0;\n",
              "  position: absolute;\n",
              "  width: 1px;\n",
              "}\n",
              "\n",
              "#sk-container-id-1 div.sk-dashed-wrapped {\n",
              "  border: 1px dashed var(--sklearn-color-line);\n",
              "  margin: 0 0.4em 0.5em 0.4em;\n",
              "  box-sizing: border-box;\n",
              "  padding-bottom: 0.4em;\n",
              "  background-color: var(--sklearn-color-background);\n",
              "}\n",
              "\n",
              "#sk-container-id-1 div.sk-container {\n",
              "  /* jupyter's `normalize.less` sets `[hidden] { display: none; }`\n",
              "     but bootstrap.min.css set `[hidden] { display: none !important; }`\n",
              "     so we also need the `!important` here to be able to override the\n",
              "     default hidden behavior on the sphinx rendered scikit-learn.org.\n",
              "     See: https://github.com/scikit-learn/scikit-learn/issues/21755 */\n",
              "  display: inline-block !important;\n",
              "  position: relative;\n",
              "}\n",
              "\n",
              "#sk-container-id-1 div.sk-text-repr-fallback {\n",
              "  display: none;\n",
              "}\n",
              "\n",
              "div.sk-parallel-item,\n",
              "div.sk-serial,\n",
              "div.sk-item {\n",
              "  /* draw centered vertical line to link estimators */\n",
              "  background-image: linear-gradient(var(--sklearn-color-text-on-default-background), var(--sklearn-color-text-on-default-background));\n",
              "  background-size: 2px 100%;\n",
              "  background-repeat: no-repeat;\n",
              "  background-position: center center;\n",
              "}\n",
              "\n",
              "/* Parallel-specific style estimator block */\n",
              "\n",
              "#sk-container-id-1 div.sk-parallel-item::after {\n",
              "  content: \"\";\n",
              "  width: 100%;\n",
              "  border-bottom: 2px solid var(--sklearn-color-text-on-default-background);\n",
              "  flex-grow: 1;\n",
              "}\n",
              "\n",
              "#sk-container-id-1 div.sk-parallel {\n",
              "  display: flex;\n",
              "  align-items: stretch;\n",
              "  justify-content: center;\n",
              "  background-color: var(--sklearn-color-background);\n",
              "  position: relative;\n",
              "}\n",
              "\n",
              "#sk-container-id-1 div.sk-parallel-item {\n",
              "  display: flex;\n",
              "  flex-direction: column;\n",
              "}\n",
              "\n",
              "#sk-container-id-1 div.sk-parallel-item:first-child::after {\n",
              "  align-self: flex-end;\n",
              "  width: 50%;\n",
              "}\n",
              "\n",
              "#sk-container-id-1 div.sk-parallel-item:last-child::after {\n",
              "  align-self: flex-start;\n",
              "  width: 50%;\n",
              "}\n",
              "\n",
              "#sk-container-id-1 div.sk-parallel-item:only-child::after {\n",
              "  width: 0;\n",
              "}\n",
              "\n",
              "/* Serial-specific style estimator block */\n",
              "\n",
              "#sk-container-id-1 div.sk-serial {\n",
              "  display: flex;\n",
              "  flex-direction: column;\n",
              "  align-items: center;\n",
              "  background-color: var(--sklearn-color-background);\n",
              "  padding-right: 1em;\n",
              "  padding-left: 1em;\n",
              "}\n",
              "\n",
              "\n",
              "/* Toggleable style: style used for estimator/Pipeline/ColumnTransformer box that is\n",
              "clickable and can be expanded/collapsed.\n",
              "- Pipeline and ColumnTransformer use this feature and define the default style\n",
              "- Estimators will overwrite some part of the style using the `sk-estimator` class\n",
              "*/\n",
              "\n",
              "/* Pipeline and ColumnTransformer style (default) */\n",
              "\n",
              "#sk-container-id-1 div.sk-toggleable {\n",
              "  /* Default theme specific background. It is overwritten whether we have a\n",
              "  specific estimator or a Pipeline/ColumnTransformer */\n",
              "  background-color: var(--sklearn-color-background);\n",
              "}\n",
              "\n",
              "/* Toggleable label */\n",
              "#sk-container-id-1 label.sk-toggleable__label {\n",
              "  cursor: pointer;\n",
              "  display: flex;\n",
              "  width: 100%;\n",
              "  margin-bottom: 0;\n",
              "  padding: 0.5em;\n",
              "  box-sizing: border-box;\n",
              "  text-align: center;\n",
              "  align-items: start;\n",
              "  justify-content: space-between;\n",
              "  gap: 0.5em;\n",
              "}\n",
              "\n",
              "#sk-container-id-1 label.sk-toggleable__label .caption {\n",
              "  font-size: 0.6rem;\n",
              "  font-weight: lighter;\n",
              "  color: var(--sklearn-color-text-muted);\n",
              "}\n",
              "\n",
              "#sk-container-id-1 label.sk-toggleable__label-arrow:before {\n",
              "  /* Arrow on the left of the label */\n",
              "  content: \"▸\";\n",
              "  float: left;\n",
              "  margin-right: 0.25em;\n",
              "  color: var(--sklearn-color-icon);\n",
              "}\n",
              "\n",
              "#sk-container-id-1 label.sk-toggleable__label-arrow:hover:before {\n",
              "  color: var(--sklearn-color-text);\n",
              "}\n",
              "\n",
              "/* Toggleable content - dropdown */\n",
              "\n",
              "#sk-container-id-1 div.sk-toggleable__content {\n",
              "  max-height: 0;\n",
              "  max-width: 0;\n",
              "  overflow: hidden;\n",
              "  text-align: left;\n",
              "  /* unfitted */\n",
              "  background-color: var(--sklearn-color-unfitted-level-0);\n",
              "}\n",
              "\n",
              "#sk-container-id-1 div.sk-toggleable__content.fitted {\n",
              "  /* fitted */\n",
              "  background-color: var(--sklearn-color-fitted-level-0);\n",
              "}\n",
              "\n",
              "#sk-container-id-1 div.sk-toggleable__content pre {\n",
              "  margin: 0.2em;\n",
              "  border-radius: 0.25em;\n",
              "  color: var(--sklearn-color-text);\n",
              "  /* unfitted */\n",
              "  background-color: var(--sklearn-color-unfitted-level-0);\n",
              "}\n",
              "\n",
              "#sk-container-id-1 div.sk-toggleable__content.fitted pre {\n",
              "  /* unfitted */\n",
              "  background-color: var(--sklearn-color-fitted-level-0);\n",
              "}\n",
              "\n",
              "#sk-container-id-1 input.sk-toggleable__control:checked~div.sk-toggleable__content {\n",
              "  /* Expand drop-down */\n",
              "  max-height: 200px;\n",
              "  max-width: 100%;\n",
              "  overflow: auto;\n",
              "}\n",
              "\n",
              "#sk-container-id-1 input.sk-toggleable__control:checked~label.sk-toggleable__label-arrow:before {\n",
              "  content: \"▾\";\n",
              "}\n",
              "\n",
              "/* Pipeline/ColumnTransformer-specific style */\n",
              "\n",
              "#sk-container-id-1 div.sk-label input.sk-toggleable__control:checked~label.sk-toggleable__label {\n",
              "  color: var(--sklearn-color-text);\n",
              "  background-color: var(--sklearn-color-unfitted-level-2);\n",
              "}\n",
              "\n",
              "#sk-container-id-1 div.sk-label.fitted input.sk-toggleable__control:checked~label.sk-toggleable__label {\n",
              "  background-color: var(--sklearn-color-fitted-level-2);\n",
              "}\n",
              "\n",
              "/* Estimator-specific style */\n",
              "\n",
              "/* Colorize estimator box */\n",
              "#sk-container-id-1 div.sk-estimator input.sk-toggleable__control:checked~label.sk-toggleable__label {\n",
              "  /* unfitted */\n",
              "  background-color: var(--sklearn-color-unfitted-level-2);\n",
              "}\n",
              "\n",
              "#sk-container-id-1 div.sk-estimator.fitted input.sk-toggleable__control:checked~label.sk-toggleable__label {\n",
              "  /* fitted */\n",
              "  background-color: var(--sklearn-color-fitted-level-2);\n",
              "}\n",
              "\n",
              "#sk-container-id-1 div.sk-label label.sk-toggleable__label,\n",
              "#sk-container-id-1 div.sk-label label {\n",
              "  /* The background is the default theme color */\n",
              "  color: var(--sklearn-color-text-on-default-background);\n",
              "}\n",
              "\n",
              "/* On hover, darken the color of the background */\n",
              "#sk-container-id-1 div.sk-label:hover label.sk-toggleable__label {\n",
              "  color: var(--sklearn-color-text);\n",
              "  background-color: var(--sklearn-color-unfitted-level-2);\n",
              "}\n",
              "\n",
              "/* Label box, darken color on hover, fitted */\n",
              "#sk-container-id-1 div.sk-label.fitted:hover label.sk-toggleable__label.fitted {\n",
              "  color: var(--sklearn-color-text);\n",
              "  background-color: var(--sklearn-color-fitted-level-2);\n",
              "}\n",
              "\n",
              "/* Estimator label */\n",
              "\n",
              "#sk-container-id-1 div.sk-label label {\n",
              "  font-family: monospace;\n",
              "  font-weight: bold;\n",
              "  display: inline-block;\n",
              "  line-height: 1.2em;\n",
              "}\n",
              "\n",
              "#sk-container-id-1 div.sk-label-container {\n",
              "  text-align: center;\n",
              "}\n",
              "\n",
              "/* Estimator-specific */\n",
              "#sk-container-id-1 div.sk-estimator {\n",
              "  font-family: monospace;\n",
              "  border: 1px dotted var(--sklearn-color-border-box);\n",
              "  border-radius: 0.25em;\n",
              "  box-sizing: border-box;\n",
              "  margin-bottom: 0.5em;\n",
              "  /* unfitted */\n",
              "  background-color: var(--sklearn-color-unfitted-level-0);\n",
              "}\n",
              "\n",
              "#sk-container-id-1 div.sk-estimator.fitted {\n",
              "  /* fitted */\n",
              "  background-color: var(--sklearn-color-fitted-level-0);\n",
              "}\n",
              "\n",
              "/* on hover */\n",
              "#sk-container-id-1 div.sk-estimator:hover {\n",
              "  /* unfitted */\n",
              "  background-color: var(--sklearn-color-unfitted-level-2);\n",
              "}\n",
              "\n",
              "#sk-container-id-1 div.sk-estimator.fitted:hover {\n",
              "  /* fitted */\n",
              "  background-color: var(--sklearn-color-fitted-level-2);\n",
              "}\n",
              "\n",
              "/* Specification for estimator info (e.g. \"i\" and \"?\") */\n",
              "\n",
              "/* Common style for \"i\" and \"?\" */\n",
              "\n",
              ".sk-estimator-doc-link,\n",
              "a:link.sk-estimator-doc-link,\n",
              "a:visited.sk-estimator-doc-link {\n",
              "  float: right;\n",
              "  font-size: smaller;\n",
              "  line-height: 1em;\n",
              "  font-family: monospace;\n",
              "  background-color: var(--sklearn-color-background);\n",
              "  border-radius: 1em;\n",
              "  height: 1em;\n",
              "  width: 1em;\n",
              "  text-decoration: none !important;\n",
              "  margin-left: 0.5em;\n",
              "  text-align: center;\n",
              "  /* unfitted */\n",
              "  border: var(--sklearn-color-unfitted-level-1) 1pt solid;\n",
              "  color: var(--sklearn-color-unfitted-level-1);\n",
              "}\n",
              "\n",
              ".sk-estimator-doc-link.fitted,\n",
              "a:link.sk-estimator-doc-link.fitted,\n",
              "a:visited.sk-estimator-doc-link.fitted {\n",
              "  /* fitted */\n",
              "  border: var(--sklearn-color-fitted-level-1) 1pt solid;\n",
              "  color: var(--sklearn-color-fitted-level-1);\n",
              "}\n",
              "\n",
              "/* On hover */\n",
              "div.sk-estimator:hover .sk-estimator-doc-link:hover,\n",
              ".sk-estimator-doc-link:hover,\n",
              "div.sk-label-container:hover .sk-estimator-doc-link:hover,\n",
              ".sk-estimator-doc-link:hover {\n",
              "  /* unfitted */\n",
              "  background-color: var(--sklearn-color-unfitted-level-3);\n",
              "  color: var(--sklearn-color-background);\n",
              "  text-decoration: none;\n",
              "}\n",
              "\n",
              "div.sk-estimator.fitted:hover .sk-estimator-doc-link.fitted:hover,\n",
              ".sk-estimator-doc-link.fitted:hover,\n",
              "div.sk-label-container:hover .sk-estimator-doc-link.fitted:hover,\n",
              ".sk-estimator-doc-link.fitted:hover {\n",
              "  /* fitted */\n",
              "  background-color: var(--sklearn-color-fitted-level-3);\n",
              "  color: var(--sklearn-color-background);\n",
              "  text-decoration: none;\n",
              "}\n",
              "\n",
              "/* Span, style for the box shown on hovering the info icon */\n",
              ".sk-estimator-doc-link span {\n",
              "  display: none;\n",
              "  z-index: 9999;\n",
              "  position: relative;\n",
              "  font-weight: normal;\n",
              "  right: .2ex;\n",
              "  padding: .5ex;\n",
              "  margin: .5ex;\n",
              "  width: min-content;\n",
              "  min-width: 20ex;\n",
              "  max-width: 50ex;\n",
              "  color: var(--sklearn-color-text);\n",
              "  box-shadow: 2pt 2pt 4pt #999;\n",
              "  /* unfitted */\n",
              "  background: var(--sklearn-color-unfitted-level-0);\n",
              "  border: .5pt solid var(--sklearn-color-unfitted-level-3);\n",
              "}\n",
              "\n",
              ".sk-estimator-doc-link.fitted span {\n",
              "  /* fitted */\n",
              "  background: var(--sklearn-color-fitted-level-0);\n",
              "  border: var(--sklearn-color-fitted-level-3);\n",
              "}\n",
              "\n",
              ".sk-estimator-doc-link:hover span {\n",
              "  display: block;\n",
              "}\n",
              "\n",
              "/* \"?\"-specific style due to the `<a>` HTML tag */\n",
              "\n",
              "#sk-container-id-1 a.estimator_doc_link {\n",
              "  float: right;\n",
              "  font-size: 1rem;\n",
              "  line-height: 1em;\n",
              "  font-family: monospace;\n",
              "  background-color: var(--sklearn-color-background);\n",
              "  border-radius: 1rem;\n",
              "  height: 1rem;\n",
              "  width: 1rem;\n",
              "  text-decoration: none;\n",
              "  /* unfitted */\n",
              "  color: var(--sklearn-color-unfitted-level-1);\n",
              "  border: var(--sklearn-color-unfitted-level-1) 1pt solid;\n",
              "}\n",
              "\n",
              "#sk-container-id-1 a.estimator_doc_link.fitted {\n",
              "  /* fitted */\n",
              "  border: var(--sklearn-color-fitted-level-1) 1pt solid;\n",
              "  color: var(--sklearn-color-fitted-level-1);\n",
              "}\n",
              "\n",
              "/* On hover */\n",
              "#sk-container-id-1 a.estimator_doc_link:hover {\n",
              "  /* unfitted */\n",
              "  background-color: var(--sklearn-color-unfitted-level-3);\n",
              "  color: var(--sklearn-color-background);\n",
              "  text-decoration: none;\n",
              "}\n",
              "\n",
              "#sk-container-id-1 a.estimator_doc_link.fitted:hover {\n",
              "  /* fitted */\n",
              "  background-color: var(--sklearn-color-fitted-level-3);\n",
              "}\n",
              "</style><div id=\"sk-container-id-1\" class=\"sk-top-container\"><div class=\"sk-text-repr-fallback\"><pre>LogisticRegression(max_iter=1000)</pre><b>In a Jupyter environment, please rerun this cell to show the HTML representation or trust the notebook. <br />On GitHub, the HTML representation is unable to render, please try loading this page with nbviewer.org.</b></div><div class=\"sk-container\" hidden><div class=\"sk-item\"><div class=\"sk-estimator fitted sk-toggleable\"><input class=\"sk-toggleable__control sk-hidden--visually\" id=\"sk-estimator-id-1\" type=\"checkbox\" checked><label for=\"sk-estimator-id-1\" class=\"sk-toggleable__label fitted sk-toggleable__label-arrow\"><div><div>LogisticRegression</div></div><div><a class=\"sk-estimator-doc-link fitted\" rel=\"noreferrer\" target=\"_blank\" href=\"https://scikit-learn.org/1.6/modules/generated/sklearn.linear_model.LogisticRegression.html\">?<span>Documentation for LogisticRegression</span></a><span class=\"sk-estimator-doc-link fitted\">i<span>Fitted</span></span></div></label><div class=\"sk-toggleable__content fitted\"><pre>LogisticRegression(max_iter=1000)</pre></div> </div></div></div></div>"
            ]
          },
          "metadata": {},
          "execution_count": 7
        }
      ]
    },
    {
      "cell_type": "markdown",
      "source": [
        "### Make Predictions"
      ],
      "metadata": {
        "id": "y5tMqDwHTBS5"
      }
    },
    {
      "cell_type": "code",
      "source": [
        "# 6. Make Predictions\n",
        "y_pred = model.predict(X_test)"
      ],
      "metadata": {
        "id": "5MccQLFcZt9G"
      },
      "execution_count": null,
      "outputs": []
    },
    {
      "cell_type": "markdown",
      "source": [
        "### Evaluating the model"
      ],
      "metadata": {
        "id": "pSz3YjmiTImJ"
      }
    },
    {
      "cell_type": "markdown",
      "source": [
        "classification_report(y_test, y_pred) generates a report that summarizes the precision, recall, F1 score, and support for each class in the test data.\n"
      ],
      "metadata": {
        "id": "MnbbgCYDdJ9N"
      }
    },
    {
      "cell_type": "markdown",
      "source": [
        "**Precision:**\n",
        "\n",
        "In logistic regression, precision refers to the ratio of true positives (correctly predicted positive instances) to the sum of true positives and false positives (incorrectly predicted positive instances). It measures the model's ability to avoid false alarms or unnecessary predictions. Precision is an important metric in binary classification problems, especially when the cost of false positives is high. A high precision value indicates that the model is reliable in its positive predictions, while a low value suggests that it may be overpredicting positive instances.\n",
        "\n",
        "**Recall:**\n",
        "In logistic regression, recall refers to the proportion of actual positive instances that are correctly identified by the model as positive. It is a measure of a model's ability to detect all actual positive cases, and is particularly important in applications where missing a positive case can have serious consequences, such as in medical diagnosis or credit risk assessment. Recall is calculated as the number of true positives divided by the sum of true positives and false negatives. A high recall value indicates that the model is effective at detecting all actual positive cases.\n",
        "\n",
        "**F1 Score:**\n",
        "\n",
        "**F1 Score: A Measure of Model Performance**\n",
        "\n",
        "The F1 score is a widely used metric in machine learning and natural language processing to evaluate the performance of classification models. It's a weighted average of precision and recall, providing a balanced measure of a model's ability to correctly identify both true positives and true negatives. The F1 score ranges from 0 to 1, with higher scores indicating better performance. It's commonly used in scenarios where the cost of false positives and false negatives is equally important, such as in spam detection, sentiment analysis, and topic modeling.\n",
        "\n",
        "**Support:**\n",
        "\n",
        "In logistic regression, support refers to the data points that most strongly influence the model's predictions. These points are typically identified through techniques such as Cook's distance or influence functions. Support points can be informative about the relationships between variables in the data and may indicate issues with model fit, such as outliers or multicollinearity. Identifying support points can help data analysts refine their models, improve their accuracy, and gain a deeper understanding of the underlying data. They can also be used to detect overfitting or underfitting.\n",
        "\n",
        "**Confusion Matrix:**\n",
        "\n",
        "A confusion matrix is a table that shows how well a classification model is performing. It's also known as an error matrix.\n",
        "How it works\n",
        "\n",
        "Rows: Represent the actual values of a class\n",
        "Columns: Represent the predicted values of a class\n",
        "Cells: Contain the number of true positives, true negatives, false positives, and false negatives\n",
        "What it's used for\n",
        "**Evaluating model performance**: Confusion matrices help determine how accurate a model is and how well it's performing\n",
        "Identifying errors: Confusion matrices help identify where a model is making mistakes\n",
        "Comparing models: Confusion matrices can be used to compare the performance of different models\n",
        "What it's used in\n",
        "Supervised learning\n",
        "Confusion matrices are used in supervised learning frameworks, where the output distribution is known\n",
        "Classification problems\n",
        "Confusion matrices are used to assess the performance of classification models\n",
        "\n",
        "![image.png](data:image/png;base64,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)\n",
        "\n"
      ],
      "metadata": {
        "id": "-RlI6RXxviMJ"
      }
    },
    {
      "cell_type": "code",
      "source": [
        "# 7. Evaluate the Model\n",
        "print(classification_report(y_test, y_pred))\n",
        "print(confusion_matrix(y_test, y_pred))\n",
        "\n"
      ],
      "metadata": {
        "colab": {
          "base_uri": "https://localhost:8080/"
        },
        "id": "3jtWy1qbaMDQ",
        "outputId": "557c01a0-7cab-4c7b-dda5-96357ffb9798"
      },
      "execution_count": null,
      "outputs": [
        {
          "output_type": "stream",
          "name": "stdout",
          "text": [
            "              precision    recall  f1-score   support\n",
            "\n",
            "           0       1.00      1.00      1.00         2\n",
            "           1       1.00      1.00      1.00         2\n",
            "\n",
            "    accuracy                           1.00         4\n",
            "   macro avg       1.00      1.00      1.00         4\n",
            "weighted avg       1.00      1.00      1.00         4\n",
            "\n",
            "[[2 0]\n",
            " [0 2]]\n"
          ]
        }
      ]
    }
  ]
}