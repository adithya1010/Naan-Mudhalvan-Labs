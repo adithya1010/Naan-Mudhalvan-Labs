{
  "nbformat": 4,
  "nbformat_minor": 0,
  "metadata": {
    "colab": {
      "provenance": [],
      "authorship_tag": "ABX9TyNjcbkG7hwyllR5RvIlkQ4e",
      "include_colab_link": true
    },
    "kernelspec": {
      "name": "python3",
      "display_name": "Python 3"
    },
    "language_info": {
      "name": "python"
    }
  },
  "cells": [
    {
      "cell_type": "markdown",
      "metadata": {
        "id": "view-in-github",
        "colab_type": "text"
      },
      "source": [
        "<a href=\"https://colab.research.google.com/github/adithya1010/Naan-Mudhalvan-Labs/blob/main/Mini-Project/MiniProject_COVID2.ipynb\" target=\"_parent\"><img src=\"https://colab.research.google.com/assets/colab-badge.svg\" alt=\"Open In Colab\"/></a>"
      ]
    },
    {
      "cell_type": "markdown",
      "source": [
        "#Mini Project - COVID data\n",
        "\n",
        "Project done with inputs from DeepSeek R1 and V3, Gemini 1.5 Flash\n",
        "\n",
        "**Link to Chat:** https://getmerlin.in/share/chat/xSSktOG18bm\n",
        "\n",
        "\n",
        "**References:**\n",
        "\n",
        "1. https://medium.com/@malli.learnings/exploring-machine-learning-models-a-comprehensive-comparison-of-logistic-regression-decision-38cc12287055\n",
        "2. https://www.ijraset.com/research-paper/comparative-analysis-of-machine-learning-algorithms\n",
        "3. https://www.sciencedirect.com/science/article/pii/S1877050922021159\n",
        "4. https://github.com/ekombu/Comparison-of-classification-Algorithms-using-Iris-dataset\n",
        "5. https://github.com/alicevillar/titanic-kaggle\n",
        "6. https://medium.com/@balaswitha.reddy/battle-of-the-algorithms-comparing-decision-trees-svm-random-forests-and-logistic-regression-1bf3809c8df3\n",
        "7. https://www.researchgate.net/publication/383112660_Survival_Prediction_and_Comparison_of_the_Titanic_based_on_Machine_Learning_Classifiers\n",
        "8. https://github.com/adithya1010/Naan-Mudhalvan-Labs/tree/main/Task-3\n",
        "9. https://colab.research.google.com/drive/1vizliO1MueA5rXjzpt8i08bb_VehL-ox?usp=sharing\n",
        "10. https://colab.research.google.com/drive/1OiiWxznu_KzLoqjb3alUJauSSChrJQ5S?usp=sharing\n",
        "\n",
        "The PPT prepared for this project can be found here:\n",
        "https://gamma.app/docs/Mini-Project-COVID-data-analysis-bmnj4yqhkwqrtak"
      ],
      "metadata": {
        "id": "sRg_TCc5869u"
      }
    },
    {
      "cell_type": "code",
      "execution_count": null,
      "metadata": {
        "id": "TFy-imXkwRHh"
      },
      "outputs": [],
      "source": [
        "import pandas as pd\n",
        "from sklearn.model_selection import train_test_split\n",
        "from sklearn.preprocessing import StandardScaler\n",
        "from sklearn.linear_model import LogisticRegression\n",
        "from sklearn.svm import SVC\n",
        "from sklearn.tree import DecisionTreeClassifier\n",
        "from sklearn.ensemble import RandomForestClassifier\n",
        "from sklearn.metrics import accuracy_score, precision_score, recall_score\n",
        "from sklearn.pipeline import make_pipeline\n"
      ]
    },
    {
      "cell_type": "markdown",
      "source": [
        "The 'low_memory=False' parameter is used to improve performance when reading large CSV files with mixed data types by allowing pandas to convert the data to a more memory-efficient format."
      ],
      "metadata": {
        "id": "praDb0XIQk4g"
      }
    },
    {
      "cell_type": "code",
      "source": [
        "df = pd.read_csv('ASPR_Treatments_Locator_20250124.csv', low_memory=False)\n"
      ],
      "metadata": {
        "id": "w1IGGJvc5mng"
      },
      "execution_count": null,
      "outputs": []
    },
    {
      "cell_type": "code",
      "source": [
        "# Drop irrelevant columns\n",
        "columns_to_drop = [\n",
        "    'Provider Name', 'Address 1', 'Address 2', 'City', 'State', 'Zip',\n",
        "    'Public Phone', 'Geopoint', 'Last Report Date', 'Appointment URL',\n",
        "    'Grantee Code', 'Is Flu'\n",
        "]"
      ],
      "metadata": {
        "id": "Yesy0muA57dr"
      },
      "execution_count": null,
      "outputs": []
    },
    {
      "cell_type": "code",
      "source": [
        "df = df.drop(columns=columns_to_drop)\n"
      ],
      "metadata": {
        "id": "qAQsFENd6JwP"
      },
      "execution_count": null,
      "outputs": []
    },
    {
      "cell_type": "code",
      "source": [
        "# Convert boolean columns to 0/1\n",
        "boolean_columns = [\n",
        "    'Is PAP Site', 'Home Delivery', 'Is ICATT Site', 'Has USG Product',\n",
        "    'Has Commercial Product', 'Has Paxlovid', 'Has Commercial Paxlovid',\n",
        "    'Has USG Paxlovid', 'Has Lagevrio', 'Has Commercial Lagevrio',\n",
        "    'Has USG Lagevrio', 'Has Veklury', 'Has Oseltamivir Generic',\n",
        "    'Has Oseltamivir Suspension', 'Has Oseltamivir Tamiflu', 'Has Baloxavir',\n",
        "    'Has Zanamivir', 'Has Peramivir', 'Prescribing Services Available'\n",
        "]\n",
        "\n",
        "for col in boolean_columns:\n",
        "    # Replace 'true', 'false', and empty strings with 1, 0, and 0 respectively\n",
        "    df[col] = df[col].replace({'true': 1, 'false': 0, '': 0})\n",
        "    # Convert the column to numeric, coercing errors to NaN\n",
        "    df[col] = pd.to_numeric(df[col], errors='coerce')\n",
        "    # Fill NaN values with 0 and then convert to integers\n",
        "    df[col] = df[col].fillna(0).astype(int)"
      ],
      "metadata": {
        "id": "pMxDbE6R6MS8"
      },
      "execution_count": null,
      "outputs": []
    },
    {
      "cell_type": "code",
      "source": [
        "# Define features and target\n",
        "X = df.drop(columns=['Is COVID-19'])\n",
        "y = df['Is COVID-19'].astype(int)"
      ],
      "metadata": {
        "id": "ck_A5s2s6PAD"
      },
      "execution_count": null,
      "outputs": []
    },
    {
      "cell_type": "code",
      "source": [
        "# Split data into train and test sets\n",
        "X_train, X_test, y_train, y_test = train_test_split(X, y, test_size=0.2, random_state=42)"
      ],
      "metadata": {
        "id": "9DvWQJUc6sVs"
      },
      "execution_count": null,
      "outputs": []
    },
    {
      "cell_type": "markdown",
      "source": [
        "models = {}: This creates an empty dictionary named models. Dictionaries are used to store key-value pairs. In this case, the keys will be the names of the models (e.g., 'Logistic Regression'), and the values will be the actual model objects.\n",
        "\n",
        "text\n",
        "\n",
        "'Logistic Regression': make_pipeline(StandardScaler(), LogisticRegression())\n",
        ":\n",
        "\n",
        "'Logistic Regression' is the key, a string representing the name of the model.\n",
        "text\n",
        "\n",
        "make_pipeline(StandardScaler(), LogisticRegression())\n",
        "creates a pipeline. A pipeline is a way to chain together multiple data transformations and a final estimator (the model). This is good practice for several reasons:\n",
        "Simplifies Code: It encapsulates all the steps (scaling and model fitting) into one object.\n",
        "Prevents Data Leakage: It ensures that the scaling is done within each cross-validation fold, preventing information from the test set from leaking into the training process.\n",
        "StandardScaler(): This is a preprocessing step that standardizes the data by removing the mean and scaling to unit variance. This is often important for models like Logistic Regression that are sensitive to feature scaling.\n",
        "LogisticRegression(): This is the Logistic Regression model itself.\n",
        "'SVM': make_pipeline(StandardScaler(), SVC()): Similar to Logistic Regression, this creates a pipeline for a Support Vector Machine (SVM) model:\n",
        "\n",
        "'SVM' is the key.\n",
        "make_pipeline(StandardScaler(), SVC()) creates a pipeline with:\n",
        "StandardScaler(): Scales the data (important for SVM).\n",
        "SVC(): This is the Support Vector Classifier model. It uses the default parameters.\n",
        "'Decision Tree': DecisionTreeClassifier():\n",
        "\n",
        "'Decision Tree' is the key.\n",
        "DecisionTreeClassifier(): This creates a Decision Tree model. No scaling is included in the pipeline.\n",
        "'Random Forest': RandomForestClassifier():\n",
        "\n",
        "'Random Forest' is the key.\n",
        "RandomForestClassifier(): This creates a Random Forest model. No scaling is included in the pipeline.\n",
        "In summary, this code initializes a dictionary containing four different machine learning models, with pipelines for Logistic Regression and SVM that include data scaling. This dictionary will likely be used later to train, evaluate, or compare these models on a dataset."
      ],
      "metadata": {
        "id": "6TFvTf3Sc-QD"
      }
    },
    {
      "cell_type": "code",
      "source": [
        "# Initialize models\n",
        "models = {\n",
        "    'Logistic Regression': make_pipeline(StandardScaler(), LogisticRegression()),\n",
        "    'SVM': make_pipeline(StandardScaler(), SVC()),\n",
        "    'Decision Tree': DecisionTreeClassifier(),\n",
        "    'Random Forest': RandomForestClassifier()\n",
        "}"
      ],
      "metadata": {
        "id": "LKraJbYa6wHI"
      },
      "execution_count": null,
      "outputs": []
    },
    {
      "cell_type": "markdown",
      "source": [
        "results = []: Initializes an empty list called results. This list will store the performance metrics for each model.\n",
        "\n",
        "for name, model in models.items():: This loop iterates through the models dictionary. In each iteration:\n",
        "\n",
        "name will be the name of the model (e.g., 'Logistic Regression').\n",
        "model will be the actual model object (e.g., the Logistic Regression pipeline).\n",
        "model.fit(X_train, y_train): This line trains the model using the training data (X_train are the features, y_train are the target variables). The fit method learns the relationship between the features and the target.\n",
        "\n",
        "y_pred = model.predict(X_test): This line uses the trained model to make predictions on the test data (X_test). y_pred will be an array of predicted target values.\n",
        "\n",
        "accuracy = accuracy_score(y_test, y_pred): Calculates the accuracy of the model. Accuracy is the proportion of correctly classified instances. It compares the predicted values (y_pred) to the true values (y_test).\n",
        "\n",
        "precision = precision_score(y_test, y_pred): Calculates the precision of the model. Precision is the proportion of true positive predictions out of all positive predictions. It measures how well the model avoids false positives.\n",
        "\n",
        "recall = recall_score(y_test, y_pred): Calculates the recall of the model. Recall is the proportion of true positive predictions out of all actual positive instances. It measures how well the model avoids false negatives.\n",
        "\n",
        "results.append(...): Appends a dictionary containing the model's name and its performance metrics (accuracy, precision, recall) to the results list. The round(..., 3) function rounds the metrics to three decimal places for better readability.\n",
        "\n",
        "results_df = pd.DataFrame(results): Creates a Pandas DataFrame from the results list. This is a convenient way to organize and display the results in a table.\n",
        "\n",
        "print(results_df): Prints the DataFrame to the console, showing the performance metrics for each model."
      ],
      "metadata": {
        "id": "e9xxKy8Ik3yZ"
      }
    },
    {
      "cell_type": "code",
      "source": [
        "# Evaluate models\n",
        "results = []\n",
        "for name, model in models.items():\n",
        "    model.fit(X_train, y_train)\n",
        "    y_pred = model.predict(X_test)\n",
        "    accuracy = accuracy_score(y_test, y_pred)\n",
        "    precision = precision_score(y_test, y_pred)\n",
        "    recall = recall_score(y_test, y_pred)\n",
        "    results.append({\n",
        "        'Model': name,\n",
        "        'Accuracy': round(accuracy, 3),\n",
        "        'Precision': round(precision, 3),\n",
        "        'Recall': round(recall, 3)\n",
        "    })\n",
        "# Display results\n",
        "results_df = pd.DataFrame(results)\n",
        "print(results_df)"
      ],
      "metadata": {
        "colab": {
          "base_uri": "https://localhost:8080/"
        },
        "id": "zW3gj4Vx6ylv",
        "outputId": "bcd65efb-2bd3-446a-c7a0-8989ab80e7f0"
      },
      "execution_count": null,
      "outputs": [
        {
          "output_type": "stream",
          "name": "stdout",
          "text": [
            "                 Model  Accuracy  Precision  Recall\n",
            "0  Logistic Regression       1.0        1.0     1.0\n",
            "1                  SVM       1.0        1.0     1.0\n",
            "2        Decision Tree       1.0        1.0     1.0\n",
            "3        Random Forest       1.0        1.0     1.0\n"
          ]
        }
      ]
    },
    {
      "cell_type": "markdown",
      "source": [
        "import matplotlib.pyplot as plt: Imports the matplotlib.pyplot module, which is used for creating plots.\n",
        "import seaborn as sns: Imports the seaborn module, which provides a higher-level interface for creating more visually appealing plots on top of Matplotlib.\n",
        "results_df = pd.DataFrame(results): Converts the results list of dictionaries into a Pandas DataFrame. This is crucial for easily accessing and plotting the data.\n",
        "plt.figure(figsize=(10, 6)): Creates a new figure with a specified size (width=10 inches, height=6 inches). This controls the overall size of the plot.\n",
        "sns.set(style=\"whitegrid\"): Sets the Seaborn style to \"whitegrid,\" which adds a white background and gridlines to the plot, making it easier to read.\n",
        "x = range(len(results_df)): Creates a sequence of numbers from 0 to the number of models - 1. This will be used for the x-axis positions of the bars.\n",
        "width = 0.2: Defines the width of each bar in the bar chart. Adjust this value to change the spacing between bars.\n",
        "text\n",
        "\n",
        "plt.bar(x, results_df['Accuracy'], width, label='Accuracy', color='blue')\n",
        ": Creates a bar chart for the accuracy scores.\n",
        "x: The x-axis positions of the bars.\n",
        "results_df['Accuracy']: The height of the bars (the accuracy scores).\n",
        "width: The width of the bars.\n",
        "label='Accuracy': The label for the legend.\n",
        "color='blue': The color of the bars.\n",
        "text\n",
        "\n",
        "plt.bar([i + width for i in x], results_df['Precision'], width, label='Precision', color='orange')\n",
        ": Creates a bar chart for the precision scores, shifted slightly to the right so that the precision bars are next to the accuracy bars.\n",
        "[i + width for i in x]: Shifts the x-axis positions by width to place the precision bars next to the accuracy bars.\n",
        "text\n",
        "\n",
        "plt.bar([i + 2 * width for i in x], results_df['Recall'], width, label='Recall', color='green')\n",
        ": Creates a bar chart for the recall scores, shifted even further to the right.\n",
        "plt.xlabel('Models'): Sets the label for the x-axis.\n",
        "plt.ylabel('Score'): Sets the label for the y-axis.\n",
        "text\n",
        "\n",
        "plt.title('Comparison of Model Performance (Accuracy, Precision, Recall)')\n",
        ": Sets the title of the plot.\n",
        "text\n",
        "\n",
        "plt.xticks([i + width for i in x], results_df['Model'])\n",
        ": Sets the x-axis tick labels to the names of the models. The [i + width for i in x] ensures the labels are centered under the grouped bars.\n",
        "plt.legend(loc='upper right'): Displays the legend in the upper right corner of the plot.\n",
        "plt.tight_layout(): Adjusts the plot layout to prevent labels from overlapping.\n",
        "plt.show(): Displays the plot."
      ],
      "metadata": {
        "id": "9K_iw4oXOU3K"
      }
    },
    {
      "cell_type": "code",
      "source": [
        "import matplotlib.pyplot as plt\n",
        "import seaborn as sns\n",
        "\n",
        "# Convert results to a DataFrame for easier plotting\n",
        "results_df = pd.DataFrame(results)\n",
        "\n",
        "# Set up the figure and axis\n",
        "plt.figure(figsize=(10, 6))\n",
        "sns.set(style=\"whitegrid\")\n",
        "\n",
        "# Plot accuracy, precision, and recall for each model\n",
        "x = range(len(results_df))\n",
        "width = 0.2\n",
        "\n",
        "plt.bar(x, results_df['Accuracy'], width, label='Accuracy', color='blue')\n",
        "plt.bar([i + width for i in x], results_df['Precision'], width, label='Precision', color='orange')\n",
        "plt.bar([i + 2 * width for i in x], results_df['Recall'], width, label='Recall', color='green')\n",
        "\n",
        "# Add labels, title, and legend\n",
        "plt.xlabel('Models')\n",
        "plt.ylabel('Score')\n",
        "plt.title('Comparison of Model Performance (Accuracy, Precision, Recall)')\n",
        "plt.xticks([i + width for i in x], results_df['Model'])\n",
        "plt.legend(loc='upper right')\n",
        "\n",
        "# Show the plot\n",
        "plt.tight_layout()\n",
        "plt.show()"
      ],
      "metadata": {
        "colab": {
          "base_uri": "https://localhost:8080/",
          "height": 601
        },
        "id": "rRh4iPQP72Zw",
        "outputId": "88505d46-22a9-4870-b9bc-ca68ba2b1d7f"
      },
      "execution_count": null,
      "outputs": [
        {
          "output_type": "display_data",
          "data": {
            "text/plain": [
              "<Figure size 1000x600 with 1 Axes>"
            ],
            "image/png": "[encoded data removed]"
          },
          "metadata": {}
        }
      ]
    }
  ]
}