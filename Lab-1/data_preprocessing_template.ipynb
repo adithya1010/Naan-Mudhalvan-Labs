{
  "nbformat": 4,
  "nbformat_minor": 0,
  "metadata": {
    "colab": {
      "provenance": [],
      "include_colab_link": true
    },
    "kernelspec": {
      "name": "python3",
      "display_name": "Python 3"
    }
  },
  "cells": [
    {
      "cell_type": "markdown",
      "metadata": {
        "id": "view-in-github",
        "colab_type": "text"
      },
      "source": [
        "<a href=\"https://colab.research.google.com/github/adithya1010/Naan-Mudhalvan-Labs/blob/main/data_preprocessing_template.ipynb\" target=\"_parent\"><img src=\"https://colab.research.google.com/assets/colab-badge.svg\" alt=\"Open In Colab\"/></a>"
      ]
    },
    {
      "cell_type": "markdown",
      "metadata": {
        "id": "WOw8yMd1VlnD"
      },
      "source": [
        "# Data Preprocessing Template"
      ]
    },
    {
      "cell_type": "markdown",
      "metadata": {
        "id": "NvUGC8QQV6bV"
      },
      "source": [
        "## Importing the libraries"
      ]
    },
    {
      "cell_type": "code",
      "metadata": {
        "id": "wfFEXZC0WS-V"
      },
      "source": [
        "import numpy as np\n",
        "import matplotlib.pyplot as plt\n",
        "import pandas as pd"
      ],
      "execution_count": null,
      "outputs": []
    },
    {
      "cell_type": "markdown",
      "metadata": {
        "id": "fhYaZ-ENV_c5"
      },
      "source": [
        "## Importing the dataset\n",
        "Okay, let's break this line of code down:\n",
        "\n",
        "The code X = dataset.iloc[:, :-1].values is using the Pandas library in Python to extract data from a dataset and store it in a variable called X. This is a common step in data preprocessing for machine learning tasks.\n",
        "\n",
        "Here's a breakdown:\n",
        "\n",
        "dataset: This is assumed to be a Pandas DataFrame object, which is a table-like data structure. It's where your data is stored.\n",
        "\n",
        ".iloc[]: This is used to select data by its position (row and column index) within the DataFrame.\n",
        "\n",
        "[:, :-1]: Inside the brackets, you'll see two parts separated by a comma:\n",
        "\n",
        ": before the comma means selecting all rows in the DataFrame.\n",
        ":-1 after the comma means selecting all columns except the last one. -1 refers to the last column index.\n",
        ".values: This part converts the selected data (all rows and all columns except the last) from a Pandas DataFrame/Series object into a NumPy array. NumPy arrays are efficient for numerical computations.\n",
        "\n",
        "In essence, this line of code takes all rows and all columns except the last one from your dataset (stored in dataset) and stores it as a NumPy array in the variable X.\n",
        "\n",
        "This is often used to separate features (independent variables) from the target variable (dependent variable) in machine learning. The features are stored in X, and the target variable will typically be stored in another variable, often called y."
      ]
    },
    {
      "cell_type": "code",
      "metadata": {
        "id": "aqHTg9bxWT_u"
      },
      "source": [
        "dataset = pd.read_csv('Data.csv')\n",
        "X = dataset.iloc[:, :-1].values\n",
        "y = dataset.iloc[:, -1].values"
      ],
      "execution_count": null,
      "outputs": []
    },
    {
      "cell_type": "markdown",
      "metadata": {
        "id": "3abSxRqvWEIB"
      },
      "source": [
        "## Splitting the dataset into the Training set and Test set"
      ]
    },
    {
      "cell_type": "code",
      "metadata": {
        "id": "hm48sif-WWsh"
      },
      "source": [
        "from sklearn.model_selection import train_test_split\n",
        "X_train, X_test, y_train, y_test = train_test_split(X, y, test_size = 0.2, random_state = 0)"
      ],
      "execution_count": null,
      "outputs": []
    }
  ]
}
