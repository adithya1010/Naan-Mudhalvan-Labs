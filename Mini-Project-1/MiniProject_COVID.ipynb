{
  "nbformat": 4,
  "nbformat_minor": 0,
  "metadata": {
    "colab": {
      "provenance": [],
      "authorship_tag": "ABX9TyNgGV9ZPSvADFF52fILuswO",
      "include_colab_link": true
    },
    "kernelspec": {
      "name": "python3",
      "display_name": "Python 3"
    },
    "language_info": {
      "name": "python"
    }
  },
  "cells": [
    {
      "cell_type": "markdown",
      "metadata": {
        "id": "view-in-github",
        "colab_type": "text"
      },
      "source": [
        "<a href=\"https://colab.research.google.com/github/adithya1010/Naan-Mudhalvan-Labs/blob/main/Mini-Project-1/MiniProject_COVID.ipynb\" target=\"_parent\"><img src=\"https://colab.research.google.com/assets/colab-badge.svg\" alt=\"Open In Colab\"/></a>"
      ]
    },
    {
      "cell_type": "markdown",
      "source": [
        "#Mini Project - COVID data\n",
        "\n",
        "Project done with inputs from GPT 4o Mini\n",
        "\n",
        "Special Thanks to Muthu Meena for her code too. Cleared many doubts🙏\n",
        "\n",
        "Link to Chat: https://getmerlin.in/share/chat/k3nZ__MKGAm\n",
        "\n",
        "**References:**\n",
        "\n",
        "1. https://medium.com/@malli.learnings/exploring-machine-learning-models-a-comprehensive-comparison-of-logistic-regression-decision-38cc12287055\n",
        "2. https://www.ijraset.com/research-paper/comparative-analysis-of-machine-learning-algorithms\n",
        "3. https://www.sciencedirect.com/science/article/pii/S1877050922021159\n",
        "4. https://github.com/ekombu/Comparison-of-classification-Algorithms-using-Iris-dataset\n",
        "5. https://github.com/alicevillar/titanic-kaggle\n",
        "6. https://medium.com/@balaswitha.reddy/battle-of-the-algorithms-comparing-decision-trees-svm-random-forests-and-logistic-regression-1bf3809c8df3\n",
        "7. https://www.researchgate.net/publication/383112660_Survival_Prediction_and_Comparison_of_the_Titanic_based_on_Machine_Learning_Classifiers\n",
        "8. https://github.com/adithya1010/Naan-Mudhalvan-Labs/tree/main/Task-3\n",
        "9. https://colab.research.google.com/drive/1vizliO1MueA5rXjzpt8i08bb_VehL-ox?usp=sharing\n",
        "\n",
        "The PPT prepared for this project can be found here:\n",
        "https://gamma.app/docs/Mini-Project-COVID-data-analysis-bmnj4yqhkwqrtak\n",
        "\n"
      ],
      "metadata": {
        "id": "NRNldmoLybNb"
      }
    },
    {
      "cell_type": "markdown",
      "source": [
        "### Loading the dataset"
      ],
      "metadata": {
        "id": "7g0JhE3yF2hG"
      }
    },
    {
      "cell_type": "code",
      "source": [
        "import numpy as np\n",
        "import pandas as pd\n",
        "\n",
        "import pickle as pkl\n",
        "\n",
        "from sklearn.ensemble import RandomForestClassifier\n",
        "from sklearn.model_selection import train_test_split, PredefinedSplit, GridSearchCV\n",
        "from sklearn.metrics import f1_score, precision_score, recall_score, accuracy_score"
      ],
      "metadata": {
        "id": "4SB06YTPGIkL"
      },
      "execution_count": null,
      "outputs": []
    },
    {
      "cell_type": "code",
      "execution_count": null,
      "metadata": {
        "colab": {
          "base_uri": "https://localhost:8080/",
          "height": 498
        },
        "id": "0JPNFssGE8xP",
        "outputId": "aaf02399-a998-4376-f550-77bcc2afc822"
      },
      "outputs": [
        {
          "output_type": "stream",
          "name": "stderr",
          "text": [
            "<ipython-input-177-4be3cf37aaa5>:1: DtypeWarning: Columns (12,13) have mixed types. Specify dtype option on import or set low_memory=False.\n",
            "  covid_data = pd.read_csv('/content/ASPR_Treatments_Locator_20250124.csv')\n"
          ]
        },
        {
          "output_type": "execute_result",
          "data": {
            "text/plain": [
              "           Provider Name                     Address 1 Address 2  \\\n",
              "0    CVS PHARMACY #05246                    110 HWY 98       NaN   \n",
              "1  PUBLIX PHARMACY #0567    2517 SOUTH FEDERAL HIGHWAY       NaN   \n",
              "2        WALGREENS #4379                4320 26TH ST W       NaN   \n",
              "3  PUBLIX PHARMACY #0894          6820 OKEECHOBEE BLVD       NaN   \n",
              "4  PUBLIX PHARMACY #0019  731 DUVAL STATION RD SUITE 4       NaN   \n",
              "\n",
              "              City State         Zip  Public Phone   Latitude  Longitude  \\\n",
              "0   PORT SAINT JOE    FL       32456           NaN  30.016430 -85.430510   \n",
              "1        FT PIERCE    FL       34982           NaN  27.319630 -80.316317   \n",
              "2        BRADENTON    FL  34205-3563  941-755-8596  27.462954 -82.588373   \n",
              "3  WEST PALM BEACH    FL       33411           NaN  26.705894 -80.150789   \n",
              "4     JACKSONVILLE    FL       32218           NaN  30.485316 -81.604614   \n",
              "\n",
              "                       Geopoint  ... Has Veklury  Has Oseltamivir Generic  \\\n",
              "0    POINT (-85.43051 30.01643)  ...       False                    False   \n",
              "1   POINT (-80.316317 27.31963)  ...       False                    False   \n",
              "2  POINT (-82.588373 27.462954)  ...       False                     True   \n",
              "3  POINT (-80.150789 26.705894)  ...       False                    False   \n",
              "4  POINT (-81.604614 30.485316)  ...       False                    False   \n",
              "\n",
              "  Has Oseltamivir Suspension Has Oseltamivir Tamiflu  Has Baloxavir  \\\n",
              "0                      False                   False          False   \n",
              "1                      False                   False          False   \n",
              "2                      False                   False          False   \n",
              "3                      False                   False          False   \n",
              "4                      False                   False          False   \n",
              "\n",
              "   Has Zanamivir  Has Peramivir  Grantee Code  Is Flu  Is COVID-19  \n",
              "0          False          False           CV1   False         True  \n",
              "1          False          False           PX1   False         True  \n",
              "2          False          False           WG1    True         True  \n",
              "3          False          False           PX1   False         True  \n",
              "4          False          False           PX1   False         True  \n",
              "\n",
              "[5 rows x 34 columns]"
            ],
            "text/html": [
              "\n",
              "  <div id=\"df-98b81bcc-46dd-487b-a10c-fbfa0aa59c16\" class=\"colab-df-container\">\n",
              "    <div>\n",
              "<style scoped>\n",
              "    .dataframe tbody tr th:only-of-type {\n",
              "        vertical-align: middle;\n",
              "    }\n",
              "\n",
              "    .dataframe tbody tr th {\n",
              "        vertical-align: top;\n",
              "    }\n",
              "\n",
              "    .dataframe thead th {\n",
              "        text-align: right;\n",
              "    }\n",
              "</style>\n",
              "<table border=\"1\" class=\"dataframe\">\n",
              "  <thead>\n",
              "    <tr style=\"text-align: right;\">\n",
              "      <th></th>\n",
              "      <th>Provider Name</th>\n",
              "      <th>Address 1</th>\n",
              "      <th>Address 2</th>\n",
              "      <th>City</th>\n",
              "      <th>State</th>\n",
              "      <th>Zip</th>\n",
              "      <th>Public Phone</th>\n",
              "      <th>Latitude</th>\n",
              "      <th>Longitude</th>\n",
              "      <th>Geopoint</th>\n",
              "      <th>...</th>\n",
              "      <th>Has Veklury</th>\n",
              "      <th>Has Oseltamivir Generic</th>\n",
              "      <th>Has Oseltamivir Suspension</th>\n",
              "      <th>Has Oseltamivir Tamiflu</th>\n",
              "      <th>Has Baloxavir</th>\n",
              "      <th>Has Zanamivir</th>\n",
              "      <th>Has Peramivir</th>\n",
              "      <th>Grantee Code</th>\n",
              "      <th>Is Flu</th>\n",
              "      <th>Is COVID-19</th>\n",
              "    </tr>\n",
              "  </thead>\n",
              "  <tbody>\n",
              "    <tr>\n",
              "      <th>0</th>\n",
              "      <td>CVS PHARMACY #05246</td>\n",
              "      <td>110 HWY 98</td>\n",
              "      <td>NaN</td>\n",
              "      <td>PORT SAINT JOE</td>\n",
              "      <td>FL</td>\n",
              "      <td>32456</td>\n",
              "      <td>NaN</td>\n",
              "      <td>30.016430</td>\n",
              "      <td>-85.430510</td>\n",
              "      <td>POINT (-85.43051 30.01643)</td>\n",
              "      <td>...</td>\n",
              "      <td>False</td>\n",
              "      <td>False</td>\n",
              "      <td>False</td>\n",
              "      <td>False</td>\n",
              "      <td>False</td>\n",
              "      <td>False</td>\n",
              "      <td>False</td>\n",
              "      <td>CV1</td>\n",
              "      <td>False</td>\n",
              "      <td>True</td>\n",
              "    </tr>\n",
              "    <tr>\n",
              "      <th>1</th>\n",
              "      <td>PUBLIX PHARMACY #0567</td>\n",
              "      <td>2517 SOUTH FEDERAL HIGHWAY</td>\n",
              "      <td>NaN</td>\n",
              "      <td>FT PIERCE</td>\n",
              "      <td>FL</td>\n",
              "      <td>34982</td>\n",
              "      <td>NaN</td>\n",
              "      <td>27.319630</td>\n",
              "      <td>-80.316317</td>\n",
              "      <td>POINT (-80.316317 27.31963)</td>\n",
              "      <td>...</td>\n",
              "      <td>False</td>\n",
              "      <td>False</td>\n",
              "      <td>False</td>\n",
              "      <td>False</td>\n",
              "      <td>False</td>\n",
              "      <td>False</td>\n",
              "      <td>False</td>\n",
              "      <td>PX1</td>\n",
              "      <td>False</td>\n",
              "      <td>True</td>\n",
              "    </tr>\n",
              "    <tr>\n",
              "      <th>2</th>\n",
              "      <td>WALGREENS #4379</td>\n",
              "      <td>4320 26TH ST W</td>\n",
              "      <td>NaN</td>\n",
              "      <td>BRADENTON</td>\n",
              "      <td>FL</td>\n",
              "      <td>34205-3563</td>\n",
              "      <td>941-755-8596</td>\n",
              "      <td>27.462954</td>\n",
              "      <td>-82.588373</td>\n",
              "      <td>POINT (-82.588373 27.462954)</td>\n",
              "      <td>...</td>\n",
              "      <td>False</td>\n",
              "      <td>True</td>\n",
              "      <td>False</td>\n",
              "      <td>False</td>\n",
              "      <td>False</td>\n",
              "      <td>False</td>\n",
              "      <td>False</td>\n",
              "      <td>WG1</td>\n",
              "      <td>True</td>\n",
              "      <td>True</td>\n",
              "    </tr>\n",
              "    <tr>\n",
              "      <th>3</th>\n",
              "      <td>PUBLIX PHARMACY #0894</td>\n",
              "      <td>6820 OKEECHOBEE BLVD</td>\n",
              "      <td>NaN</td>\n",
              "      <td>WEST PALM BEACH</td>\n",
              "      <td>FL</td>\n",
              "      <td>33411</td>\n",
              "      <td>NaN</td>\n",
              "      <td>26.705894</td>\n",
              "      <td>-80.150789</td>\n",
              "      <td>POINT (-80.150789 26.705894)</td>\n",
              "      <td>...</td>\n",
              "      <td>False</td>\n",
              "      <td>False</td>\n",
              "      <td>False</td>\n",
              "      <td>False</td>\n",
              "      <td>False</td>\n",
              "      <td>False</td>\n",
              "      <td>False</td>\n",
              "      <td>PX1</td>\n",
              "      <td>False</td>\n",
              "      <td>True</td>\n",
              "    </tr>\n",
              "    <tr>\n",
              "      <th>4</th>\n",
              "      <td>PUBLIX PHARMACY #0019</td>\n",
              "      <td>731 DUVAL STATION RD SUITE 4</td>\n",
              "      <td>NaN</td>\n",
              "      <td>JACKSONVILLE</td>\n",
              "      <td>FL</td>\n",
              "      <td>32218</td>\n",
              "      <td>NaN</td>\n",
              "      <td>30.485316</td>\n",
              "      <td>-81.604614</td>\n",
              "      <td>POINT (-81.604614 30.485316)</td>\n",
              "      <td>...</td>\n",
              "      <td>False</td>\n",
              "      <td>False</td>\n",
              "      <td>False</td>\n",
              "      <td>False</td>\n",
              "      <td>False</td>\n",
              "      <td>False</td>\n",
              "      <td>False</td>\n",
              "      <td>PX1</td>\n",
              "      <td>False</td>\n",
              "      <td>True</td>\n",
              "    </tr>\n",
              "  </tbody>\n",
              "</table>\n",
              "<p>5 rows × 34 columns</p>\n",
              "</div>\n",
              "    <div class=\"colab-df-buttons\">\n",
              "\n",
              "  <div class=\"colab-df-container\">\n",
              "    <button class=\"colab-df-convert\" onclick=\"convertToInteractive('df-98b81bcc-46dd-487b-a10c-fbfa0aa59c16')\"\n",
              "            title=\"Convert this dataframe to an interactive table.\"\n",
              "            style=\"display:none;\">\n",
              "\n",
              "  <svg xmlns=\"http://www.w3.org/2000/svg\" height=\"24px\" viewBox=\"0 -960 960 960\">\n",
              "    <path d=\"M120-120v-720h720v720H120Zm60-500h600v-160H180v160Zm220 220h160v-160H400v160Zm0 220h160v-160H400v160ZM180-400h160v-160H180v160Zm440 0h160v-160H620v160ZM180-180h160v-160H180v160Zm440 0h160v-160H620v160Z\"/>\n",
              "  </svg>\n",
              "    </button>\n",
              "\n",
              "  <style>\n",
              "    .colab-df-container {\n",
              "      display:flex;\n",
              "      gap: 12px;\n",
              "    }\n",
              "\n",
              "    .colab-df-convert {\n",
              "      background-color: #E8F0FE;\n",
              "      border: none;\n",
              "      border-radius: 50%;\n",
              "      cursor: pointer;\n",
              "      display: none;\n",
              "      fill: #1967D2;\n",
              "      height: 32px;\n",
              "      padding: 0 0 0 0;\n",
              "      width: 32px;\n",
              "    }\n",
              "\n",
              "    .colab-df-convert:hover {\n",
              "      background-color: #E2EBFA;\n",
              "      box-shadow: 0px 1px 2px rgba(60, 64, 67, 0.3), 0px 1px 3px 1px rgba(60, 64, 67, 0.15);\n",
              "      fill: #174EA6;\n",
              "    }\n",
              "\n",
              "    .colab-df-buttons div {\n",
              "      margin-bottom: 4px;\n",
              "    }\n",
              "\n",
              "    [theme=dark] .colab-df-convert {\n",
              "      background-color: #3B4455;\n",
              "      fill: #D2E3FC;\n",
              "    }\n",
              "\n",
              "    [theme=dark] .colab-df-convert:hover {\n",
              "      background-color: #434B5C;\n",
              "      box-shadow: 0px 1px 3px 1px rgba(0, 0, 0, 0.15);\n",
              "      filter: drop-shadow(0px 1px 2px rgba(0, 0, 0, 0.3));\n",
              "      fill: #FFFFFF;\n",
              "    }\n",
              "  </style>\n",
              "\n",
              "    <script>\n",
              "      const buttonEl =\n",
              "        document.querySelector('#df-98b81bcc-46dd-487b-a10c-fbfa0aa59c16 button.colab-df-convert');\n",
              "      buttonEl.style.display =\n",
              "        google.colab.kernel.accessAllowed ? 'block' : 'none';\n",
              "\n",
              "      async function convertToInteractive(key) {\n",
              "        const element = document.querySelector('#df-98b81bcc-46dd-487b-a10c-fbfa0aa59c16');\n",
              "        const dataTable =\n",
              "          await google.colab.kernel.invokeFunction('convertToInteractive',\n",
              "                                                    [key], {});\n",
              "        if (!dataTable) return;\n",
              "\n",
              "        const docLinkHtml = 'Like what you see? Visit the ' +\n",
              "          '<a target=\"_blank\" href=https://colab.research.google.com/notebooks/data_table.ipynb>data table notebook</a>'\n",
              "          + ' to learn more about interactive tables.';\n",
              "        element.innerHTML = '';\n",
              "        dataTable['output_type'] = 'display_data';\n",
              "        await google.colab.output.renderOutput(dataTable, element);\n",
              "        const docLink = document.createElement('div');\n",
              "        docLink.innerHTML = docLinkHtml;\n",
              "        element.appendChild(docLink);\n",
              "      }\n",
              "    </script>\n",
              "  </div>\n",
              "\n",
              "\n",
              "<div id=\"df-5feec418-743d-4fba-a8cb-8f67fb35f872\">\n",
              "  <button class=\"colab-df-quickchart\" onclick=\"quickchart('df-5feec418-743d-4fba-a8cb-8f67fb35f872')\"\n",
              "            title=\"Suggest charts\"\n",
              "            style=\"display:none;\">\n",
              "\n",
              "<svg xmlns=\"http://www.w3.org/2000/svg\" height=\"24px\"viewBox=\"0 0 24 24\"\n",
              "     width=\"24px\">\n",
              "    <g>\n",
              "        <path d=\"M19 3H5c-1.1 0-2 .9-2 2v14c0 1.1.9 2 2 2h14c1.1 0 2-.9 2-2V5c0-1.1-.9-2-2-2zM9 17H7v-7h2v7zm4 0h-2V7h2v10zm4 0h-2v-4h2v4z\"/>\n",
              "    </g>\n",
              "</svg>\n",
              "  </button>\n",
              "\n",
              "<style>\n",
              "  .colab-df-quickchart {\n",
              "      --bg-color: #E8F0FE;\n",
              "      --fill-color: #1967D2;\n",
              "      --hover-bg-color: #E2EBFA;\n",
              "      --hover-fill-color: #174EA6;\n",
              "      --disabled-fill-color: #AAA;\n",
              "      --disabled-bg-color: #DDD;\n",
              "  }\n",
              "\n",
              "  [theme=dark] .colab-df-quickchart {\n",
              "      --bg-color: #3B4455;\n",
              "      --fill-color: #D2E3FC;\n",
              "      --hover-bg-color: #434B5C;\n",
              "      --hover-fill-color: #FFFFFF;\n",
              "      --disabled-bg-color: #3B4455;\n",
              "      --disabled-fill-color: #666;\n",
              "  }\n",
              "\n",
              "  .colab-df-quickchart {\n",
              "    background-color: var(--bg-color);\n",
              "    border: none;\n",
              "    border-radius: 50%;\n",
              "    cursor: pointer;\n",
              "    display: none;\n",
              "    fill: var(--fill-color);\n",
              "    height: 32px;\n",
              "    padding: 0;\n",
              "    width: 32px;\n",
              "  }\n",
              "\n",
              "  .colab-df-quickchart:hover {\n",
              "    background-color: var(--hover-bg-color);\n",
              "    box-shadow: 0 1px 2px rgba(60, 64, 67, 0.3), 0 1px 3px 1px rgba(60, 64, 67, 0.15);\n",
              "    fill: var(--button-hover-fill-color);\n",
              "  }\n",
              "\n",
              "  .colab-df-quickchart-complete:disabled,\n",
              "  .colab-df-quickchart-complete:disabled:hover {\n",
              "    background-color: var(--disabled-bg-color);\n",
              "    fill: var(--disabled-fill-color);\n",
              "    box-shadow: none;\n",
              "  }\n",
              "\n",
              "  .colab-df-spinner {\n",
              "    border: 2px solid var(--fill-color);\n",
              "    border-color: transparent;\n",
              "    border-bottom-color: var(--fill-color);\n",
              "    animation:\n",
              "      spin 1s steps(1) infinite;\n",
              "  }\n",
              "\n",
              "  @keyframes spin {\n",
              "    0% {\n",
              "      border-color: transparent;\n",
              "      border-bottom-color: var(--fill-color);\n",
              "      border-left-color: var(--fill-color);\n",
              "    }\n",
              "    20% {\n",
              "      border-color: transparent;\n",
              "      border-left-color: var(--fill-color);\n",
              "      border-top-color: var(--fill-color);\n",
              "    }\n",
              "    30% {\n",
              "      border-color: transparent;\n",
              "      border-left-color: var(--fill-color);\n",
              "      border-top-color: var(--fill-color);\n",
              "      border-right-color: var(--fill-color);\n",
              "    }\n",
              "    40% {\n",
              "      border-color: transparent;\n",
              "      border-right-color: var(--fill-color);\n",
              "      border-top-color: var(--fill-color);\n",
              "    }\n",
              "    60% {\n",
              "      border-color: transparent;\n",
              "      border-right-color: var(--fill-color);\n",
              "    }\n",
              "    80% {\n",
              "      border-color: transparent;\n",
              "      border-right-color: var(--fill-color);\n",
              "      border-bottom-color: var(--fill-color);\n",
              "    }\n",
              "    90% {\n",
              "      border-color: transparent;\n",
              "      border-bottom-color: var(--fill-color);\n",
              "    }\n",
              "  }\n",
              "</style>\n",
              "\n",
              "  <script>\n",
              "    async function quickchart(key) {\n",
              "      const quickchartButtonEl =\n",
              "        document.querySelector('#' + key + ' button');\n",
              "      quickchartButtonEl.disabled = true;  // To prevent multiple clicks.\n",
              "      quickchartButtonEl.classList.add('colab-df-spinner');\n",
              "      try {\n",
              "        const charts = await google.colab.kernel.invokeFunction(\n",
              "            'suggestCharts', [key], {});\n",
              "      } catch (error) {\n",
              "        console.error('Error during call to suggestCharts:', error);\n",
              "      }\n",
              "      quickchartButtonEl.classList.remove('colab-df-spinner');\n",
              "      quickchartButtonEl.classList.add('colab-df-quickchart-complete');\n",
              "    }\n",
              "    (() => {\n",
              "      let quickchartButtonEl =\n",
              "        document.querySelector('#df-5feec418-743d-4fba-a8cb-8f67fb35f872 button');\n",
              "      quickchartButtonEl.style.display =\n",
              "        google.colab.kernel.accessAllowed ? 'block' : 'none';\n",
              "    })();\n",
              "  </script>\n",
              "</div>\n",
              "\n",
              "    </div>\n",
              "  </div>\n"
            ],
            "application/vnd.google.colaboratory.intrinsic+json": {
              "type": "dataframe",
              "variable_name": "covid_data"
            }
          },
          "metadata": {},
          "execution_count": 177
        }
      ],
      "source": [
        "covid_data = pd.read_csv('/content/ASPR_Treatments_Locator_20250124.csv')\n",
        "covid_data.head()"
      ]
    },
    {
      "cell_type": "markdown",
      "source": [
        "### Data Exploration and Analysis"
      ],
      "metadata": {
        "id": "OrF2TCQ_GSRu"
      }
    },
    {
      "cell_type": "code",
      "source": [
        "covid_data.shape"
      ],
      "metadata": {
        "colab": {
          "base_uri": "https://localhost:8080/"
        },
        "id": "saQaG6VaGVs0",
        "outputId": "d8868344-df89-4b8b-aae3-d5cb3a58b7d8"
      },
      "execution_count": null,
      "outputs": [
        {
          "output_type": "execute_result",
          "data": {
            "text/plain": [
              "(65848, 34)"
            ]
          },
          "metadata": {},
          "execution_count": 178
        }
      ]
    },
    {
      "cell_type": "code",
      "source": [
        "covid_data.info()"
      ],
      "metadata": {
        "colab": {
          "base_uri": "https://localhost:8080/"
        },
        "id": "g8p5-vNjJiKQ",
        "outputId": "12677c75-1df6-444e-b254-7fea0b8c5b0f"
      },
      "execution_count": null,
      "outputs": [
        {
          "output_type": "stream",
          "name": "stdout",
          "text": [
            "<class 'pandas.core.frame.DataFrame'>\n",
            "RangeIndex: 65848 entries, 0 to 65847\n",
            "Data columns (total 34 columns):\n",
            " #   Column                          Non-Null Count  Dtype  \n",
            "---  ------                          --------------  -----  \n",
            " 0   Provider Name                   65848 non-null  object \n",
            " 1   Address 1                       65847 non-null  object \n",
            " 2   Address 2                       7373 non-null   object \n",
            " 3   City                            65847 non-null  object \n",
            " 4   State                           65847 non-null  object \n",
            " 5   Zip                             65847 non-null  object \n",
            " 6   Public Phone                    20559 non-null  object \n",
            " 7   Latitude                        65848 non-null  float64\n",
            " 8   Longitude                       65848 non-null  float64\n",
            " 9   Geopoint                        65848 non-null  object \n",
            " 10  Last Report Date                65847 non-null  object \n",
            " 11  Is PAP Site                     65848 non-null  bool   \n",
            " 12  Prescribing Services Available  894 non-null    object \n",
            " 13  Appointment URL                 494 non-null    object \n",
            " 14  Home Delivery                   65848 non-null  bool   \n",
            " 15  Is ICATT Site                   65848 non-null  bool   \n",
            " 16  Has USG Product                 65848 non-null  bool   \n",
            " 17  Has Commercial Product          65848 non-null  bool   \n",
            " 18  Has Paxlovid                    65848 non-null  bool   \n",
            " 19  Has Commercial Paxlovid         65848 non-null  bool   \n",
            " 20  Has USG Paxlovid                65848 non-null  bool   \n",
            " 21  Has Lagevrio                    65848 non-null  bool   \n",
            " 22  Has Commercial Lagevrio         65848 non-null  bool   \n",
            " 23  Has USG Lagevrio                65848 non-null  bool   \n",
            " 24  Has Veklury                     65848 non-null  bool   \n",
            " 25  Has Oseltamivir Generic         65848 non-null  bool   \n",
            " 26  Has Oseltamivir Suspension      65848 non-null  bool   \n",
            " 27  Has Oseltamivir Tamiflu         65848 non-null  bool   \n",
            " 28  Has Baloxavir                   65848 non-null  bool   \n",
            " 29  Has Zanamivir                   65848 non-null  bool   \n",
            " 30  Has Peramivir                   65848 non-null  bool   \n",
            " 31  Grantee Code                    45474 non-null  object \n",
            " 32  Is Flu                          65848 non-null  bool   \n",
            " 33  Is COVID-19                     65848 non-null  bool   \n",
            "dtypes: bool(20), float64(2), object(12)\n",
            "memory usage: 8.3+ MB\n"
          ]
        }
      ]
    },
    {
      "cell_type": "code",
      "source": [
        "covid_data.dtypes"
      ],
      "metadata": {
        "colab": {
          "base_uri": "https://localhost:8080/",
          "height": 1000
        },
        "id": "EhPnffgfJqyU",
        "outputId": "d1971d23-6729-4fd6-cb7b-959934cab21b"
      },
      "execution_count": null,
      "outputs": [
        {
          "output_type": "execute_result",
          "data": {
            "text/plain": [
              "Provider Name                      object\n",
              "Address 1                          object\n",
              "Address 2                          object\n",
              "City                               object\n",
              "State                              object\n",
              "Zip                                object\n",
              "Public Phone                       object\n",
              "Latitude                          float64\n",
              "Longitude                         float64\n",
              "Geopoint                           object\n",
              "Last Report Date                   object\n",
              "Is PAP Site                          bool\n",
              "Prescribing Services Available     object\n",
              "Appointment URL                    object\n",
              "Home Delivery                        bool\n",
              "Is ICATT Site                        bool\n",
              "Has USG Product                      bool\n",
              "Has Commercial Product               bool\n",
              "Has Paxlovid                         bool\n",
              "Has Commercial Paxlovid              bool\n",
              "Has USG Paxlovid                     bool\n",
              "Has Lagevrio                         bool\n",
              "Has Commercial Lagevrio              bool\n",
              "Has USG Lagevrio                     bool\n",
              "Has Veklury                          bool\n",
              "Has Oseltamivir Generic              bool\n",
              "Has Oseltamivir Suspension           bool\n",
              "Has Oseltamivir Tamiflu              bool\n",
              "Has Baloxavir                        bool\n",
              "Has Zanamivir                        bool\n",
              "Has Peramivir                        bool\n",
              "Grantee Code                       object\n",
              "Is Flu                               bool\n",
              "Is COVID-19                          bool\n",
              "dtype: object"
            ],
            "text/html": [
              "<div>\n",
              "<style scoped>\n",
              "    .dataframe tbody tr th:only-of-type {\n",
              "        vertical-align: middle;\n",
              "    }\n",
              "\n",
              "    .dataframe tbody tr th {\n",
              "        vertical-align: top;\n",
              "    }\n",
              "\n",
              "    .dataframe thead th {\n",
              "        text-align: right;\n",
              "    }\n",
              "</style>\n",
              "<table border=\"1\" class=\"dataframe\">\n",
              "  <thead>\n",
              "    <tr style=\"text-align: right;\">\n",
              "      <th></th>\n",
              "      <th>0</th>\n",
              "    </tr>\n",
              "  </thead>\n",
              "  <tbody>\n",
              "    <tr>\n",
              "      <th>Provider Name</th>\n",
              "      <td>object</td>\n",
              "    </tr>\n",
              "    <tr>\n",
              "      <th>Address 1</th>\n",
              "      <td>object</td>\n",
              "    </tr>\n",
              "    <tr>\n",
              "      <th>Address 2</th>\n",
              "      <td>object</td>\n",
              "    </tr>\n",
              "    <tr>\n",
              "      <th>City</th>\n",
              "      <td>object</td>\n",
              "    </tr>\n",
              "    <tr>\n",
              "      <th>State</th>\n",
              "      <td>object</td>\n",
              "    </tr>\n",
              "    <tr>\n",
              "      <th>Zip</th>\n",
              "      <td>object</td>\n",
              "    </tr>\n",
              "    <tr>\n",
              "      <th>Public Phone</th>\n",
              "      <td>object</td>\n",
              "    </tr>\n",
              "    <tr>\n",
              "      <th>Latitude</th>\n",
              "      <td>float64</td>\n",
              "    </tr>\n",
              "    <tr>\n",
              "      <th>Longitude</th>\n",
              "      <td>float64</td>\n",
              "    </tr>\n",
              "    <tr>\n",
              "      <th>Geopoint</th>\n",
              "      <td>object</td>\n",
              "    </tr>\n",
              "    <tr>\n",
              "      <th>Last Report Date</th>\n",
              "      <td>object</td>\n",
              "    </tr>\n",
              "    <tr>\n",
              "      <th>Is PAP Site</th>\n",
              "      <td>bool</td>\n",
              "    </tr>\n",
              "    <tr>\n",
              "      <th>Prescribing Services Available</th>\n",
              "      <td>object</td>\n",
              "    </tr>\n",
              "    <tr>\n",
              "      <th>Appointment URL</th>\n",
              "      <td>object</td>\n",
              "    </tr>\n",
              "    <tr>\n",
              "      <th>Home Delivery</th>\n",
              "      <td>bool</td>\n",
              "    </tr>\n",
              "    <tr>\n",
              "      <th>Is ICATT Site</th>\n",
              "      <td>bool</td>\n",
              "    </tr>\n",
              "    <tr>\n",
              "      <th>Has USG Product</th>\n",
              "      <td>bool</td>\n",
              "    </tr>\n",
              "    <tr>\n",
              "      <th>Has Commercial Product</th>\n",
              "      <td>bool</td>\n",
              "    </tr>\n",
              "    <tr>\n",
              "      <th>Has Paxlovid</th>\n",
              "      <td>bool</td>\n",
              "    </tr>\n",
              "    <tr>\n",
              "      <th>Has Commercial Paxlovid</th>\n",
              "      <td>bool</td>\n",
              "    </tr>\n",
              "    <tr>\n",
              "      <th>Has USG Paxlovid</th>\n",
              "      <td>bool</td>\n",
              "    </tr>\n",
              "    <tr>\n",
              "      <th>Has Lagevrio</th>\n",
              "      <td>bool</td>\n",
              "    </tr>\n",
              "    <tr>\n",
              "      <th>Has Commercial Lagevrio</th>\n",
              "      <td>bool</td>\n",
              "    </tr>\n",
              "    <tr>\n",
              "      <th>Has USG Lagevrio</th>\n",
              "      <td>bool</td>\n",
              "    </tr>\n",
              "    <tr>\n",
              "      <th>Has Veklury</th>\n",
              "      <td>bool</td>\n",
              "    </tr>\n",
              "    <tr>\n",
              "      <th>Has Oseltamivir Generic</th>\n",
              "      <td>bool</td>\n",
              "    </tr>\n",
              "    <tr>\n",
              "      <th>Has Oseltamivir Suspension</th>\n",
              "      <td>bool</td>\n",
              "    </tr>\n",
              "    <tr>\n",
              "      <th>Has Oseltamivir Tamiflu</th>\n",
              "      <td>bool</td>\n",
              "    </tr>\n",
              "    <tr>\n",
              "      <th>Has Baloxavir</th>\n",
              "      <td>bool</td>\n",
              "    </tr>\n",
              "    <tr>\n",
              "      <th>Has Zanamivir</th>\n",
              "      <td>bool</td>\n",
              "    </tr>\n",
              "    <tr>\n",
              "      <th>Has Peramivir</th>\n",
              "      <td>bool</td>\n",
              "    </tr>\n",
              "    <tr>\n",
              "      <th>Grantee Code</th>\n",
              "      <td>object</td>\n",
              "    </tr>\n",
              "    <tr>\n",
              "      <th>Is Flu</th>\n",
              "      <td>bool</td>\n",
              "    </tr>\n",
              "    <tr>\n",
              "      <th>Is COVID-19</th>\n",
              "      <td>bool</td>\n",
              "    </tr>\n",
              "  </tbody>\n",
              "</table>\n",
              "</div><br><label><b>dtype:</b> object</label>"
            ]
          },
          "metadata": {},
          "execution_count": 180
        }
      ]
    },
    {
      "cell_type": "code",
      "source": [
        "covid_data.isna().sum()"
      ],
      "metadata": {
        "colab": {
          "base_uri": "https://localhost:8080/",
          "height": 1000
        },
        "id": "3DVZKzYTJzkz",
        "outputId": "b5772388-1b6d-4571-b6c0-84d01ec50ff7"
      },
      "execution_count": null,
      "outputs": [
        {
          "output_type": "execute_result",
          "data": {
            "text/plain": [
              "Provider Name                         0\n",
              "Address 1                             1\n",
              "Address 2                         58475\n",
              "City                                  1\n",
              "State                                 1\n",
              "Zip                                   1\n",
              "Public Phone                      45289\n",
              "Latitude                              0\n",
              "Longitude                             0\n",
              "Geopoint                              0\n",
              "Last Report Date                      1\n",
              "Is PAP Site                           0\n",
              "Prescribing Services Available    64954\n",
              "Appointment URL                   65354\n",
              "Home Delivery                         0\n",
              "Is ICATT Site                         0\n",
              "Has USG Product                       0\n",
              "Has Commercial Product                0\n",
              "Has Paxlovid                          0\n",
              "Has Commercial Paxlovid               0\n",
              "Has USG Paxlovid                      0\n",
              "Has Lagevrio                          0\n",
              "Has Commercial Lagevrio               0\n",
              "Has USG Lagevrio                      0\n",
              "Has Veklury                           0\n",
              "Has Oseltamivir Generic               0\n",
              "Has Oseltamivir Suspension            0\n",
              "Has Oseltamivir Tamiflu               0\n",
              "Has Baloxavir                         0\n",
              "Has Zanamivir                         0\n",
              "Has Peramivir                         0\n",
              "Grantee Code                      20374\n",
              "Is Flu                                0\n",
              "Is COVID-19                           0\n",
              "dtype: int64"
            ],
            "text/html": [
              "<div>\n",
              "<style scoped>\n",
              "    .dataframe tbody tr th:only-of-type {\n",
              "        vertical-align: middle;\n",
              "    }\n",
              "\n",
              "    .dataframe tbody tr th {\n",
              "        vertical-align: top;\n",
              "    }\n",
              "\n",
              "    .dataframe thead th {\n",
              "        text-align: right;\n",
              "    }\n",
              "</style>\n",
              "<table border=\"1\" class=\"dataframe\">\n",
              "  <thead>\n",
              "    <tr style=\"text-align: right;\">\n",
              "      <th></th>\n",
              "      <th>0</th>\n",
              "    </tr>\n",
              "  </thead>\n",
              "  <tbody>\n",
              "    <tr>\n",
              "      <th>Provider Name</th>\n",
              "      <td>0</td>\n",
              "    </tr>\n",
              "    <tr>\n",
              "      <th>Address 1</th>\n",
              "      <td>1</td>\n",
              "    </tr>\n",
              "    <tr>\n",
              "      <th>Address 2</th>\n",
              "      <td>58475</td>\n",
              "    </tr>\n",
              "    <tr>\n",
              "      <th>City</th>\n",
              "      <td>1</td>\n",
              "    </tr>\n",
              "    <tr>\n",
              "      <th>State</th>\n",
              "      <td>1</td>\n",
              "    </tr>\n",
              "    <tr>\n",
              "      <th>Zip</th>\n",
              "      <td>1</td>\n",
              "    </tr>\n",
              "    <tr>\n",
              "      <th>Public Phone</th>\n",
              "      <td>45289</td>\n",
              "    </tr>\n",
              "    <tr>\n",
              "      <th>Latitude</th>\n",
              "      <td>0</td>\n",
              "    </tr>\n",
              "    <tr>\n",
              "      <th>Longitude</th>\n",
              "      <td>0</td>\n",
              "    </tr>\n",
              "    <tr>\n",
              "      <th>Geopoint</th>\n",
              "      <td>0</td>\n",
              "    </tr>\n",
              "    <tr>\n",
              "      <th>Last Report Date</th>\n",
              "      <td>1</td>\n",
              "    </tr>\n",
              "    <tr>\n",
              "      <th>Is PAP Site</th>\n",
              "      <td>0</td>\n",
              "    </tr>\n",
              "    <tr>\n",
              "      <th>Prescribing Services Available</th>\n",
              "      <td>64954</td>\n",
              "    </tr>\n",
              "    <tr>\n",
              "      <th>Appointment URL</th>\n",
              "      <td>65354</td>\n",
              "    </tr>\n",
              "    <tr>\n",
              "      <th>Home Delivery</th>\n",
              "      <td>0</td>\n",
              "    </tr>\n",
              "    <tr>\n",
              "      <th>Is ICATT Site</th>\n",
              "      <td>0</td>\n",
              "    </tr>\n",
              "    <tr>\n",
              "      <th>Has USG Product</th>\n",
              "      <td>0</td>\n",
              "    </tr>\n",
              "    <tr>\n",
              "      <th>Has Commercial Product</th>\n",
              "      <td>0</td>\n",
              "    </tr>\n",
              "    <tr>\n",
              "      <th>Has Paxlovid</th>\n",
              "      <td>0</td>\n",
              "    </tr>\n",
              "    <tr>\n",
              "      <th>Has Commercial Paxlovid</th>\n",
              "      <td>0</td>\n",
              "    </tr>\n",
              "    <tr>\n",
              "      <th>Has USG Paxlovid</th>\n",
              "      <td>0</td>\n",
              "    </tr>\n",
              "    <tr>\n",
              "      <th>Has Lagevrio</th>\n",
              "      <td>0</td>\n",
              "    </tr>\n",
              "    <tr>\n",
              "      <th>Has Commercial Lagevrio</th>\n",
              "      <td>0</td>\n",
              "    </tr>\n",
              "    <tr>\n",
              "      <th>Has USG Lagevrio</th>\n",
              "      <td>0</td>\n",
              "    </tr>\n",
              "    <tr>\n",
              "      <th>Has Veklury</th>\n",
              "      <td>0</td>\n",
              "    </tr>\n",
              "    <tr>\n",
              "      <th>Has Oseltamivir Generic</th>\n",
              "      <td>0</td>\n",
              "    </tr>\n",
              "    <tr>\n",
              "      <th>Has Oseltamivir Suspension</th>\n",
              "      <td>0</td>\n",
              "    </tr>\n",
              "    <tr>\n",
              "      <th>Has Oseltamivir Tamiflu</th>\n",
              "      <td>0</td>\n",
              "    </tr>\n",
              "    <tr>\n",
              "      <th>Has Baloxavir</th>\n",
              "      <td>0</td>\n",
              "    </tr>\n",
              "    <tr>\n",
              "      <th>Has Zanamivir</th>\n",
              "      <td>0</td>\n",
              "    </tr>\n",
              "    <tr>\n",
              "      <th>Has Peramivir</th>\n",
              "      <td>0</td>\n",
              "    </tr>\n",
              "    <tr>\n",
              "      <th>Grantee Code</th>\n",
              "      <td>20374</td>\n",
              "    </tr>\n",
              "    <tr>\n",
              "      <th>Is Flu</th>\n",
              "      <td>0</td>\n",
              "    </tr>\n",
              "    <tr>\n",
              "      <th>Is COVID-19</th>\n",
              "      <td>0</td>\n",
              "    </tr>\n",
              "  </tbody>\n",
              "</table>\n",
              "</div><br><label><b>dtype:</b> int64</label>"
            ]
          },
          "metadata": {},
          "execution_count": 181
        }
      ]
    },
    {
      "cell_type": "code",
      "source": [
        "covid_data.describe()"
      ],
      "metadata": {
        "colab": {
          "base_uri": "https://localhost:8080/",
          "height": 300
        },
        "id": "mbrvQTDZJ7Od",
        "outputId": "f8beebbf-7108-463c-f936-99d46ddb9056"
      },
      "execution_count": null,
      "outputs": [
        {
          "output_type": "execute_result",
          "data": {
            "text/plain": [
              "           Latitude     Longitude\n",
              "count  65848.000000  65848.000000\n",
              "mean      36.997081    -89.941546\n",
              "std        5.600009     16.009970\n",
              "min       13.475204   -159.672639\n",
              "25%       33.636309    -96.803057\n",
              "50%       37.997045    -85.331567\n",
              "75%       40.868882    -78.844330\n",
              "max       71.297375    145.728316"
            ],
            "text/html": [
              "\n",
              "  <div id=\"df-a669fd25-e3b2-4545-9ba2-c963642d6936\" class=\"colab-df-container\">\n",
              "    <div>\n",
              "<style scoped>\n",
              "    .dataframe tbody tr th:only-of-type {\n",
              "        vertical-align: middle;\n",
              "    }\n",
              "\n",
              "    .dataframe tbody tr th {\n",
              "        vertical-align: top;\n",
              "    }\n",
              "\n",
              "    .dataframe thead th {\n",
              "        text-align: right;\n",
              "    }\n",
              "</style>\n",
              "<table border=\"1\" class=\"dataframe\">\n",
              "  <thead>\n",
              "    <tr style=\"text-align: right;\">\n",
              "      <th></th>\n",
              "      <th>Latitude</th>\n",
              "      <th>Longitude</th>\n",
              "    </tr>\n",
              "  </thead>\n",
              "  <tbody>\n",
              "    <tr>\n",
              "      <th>count</th>\n",
              "      <td>65848.000000</td>\n",
              "      <td>65848.000000</td>\n",
              "    </tr>\n",
              "    <tr>\n",
              "      <th>mean</th>\n",
              "      <td>36.997081</td>\n",
              "      <td>-89.941546</td>\n",
              "    </tr>\n",
              "    <tr>\n",
              "      <th>std</th>\n",
              "      <td>5.600009</td>\n",
              "      <td>16.009970</td>\n",
              "    </tr>\n",
              "    <tr>\n",
              "      <th>min</th>\n",
              "      <td>13.475204</td>\n",
              "      <td>-159.672639</td>\n",
              "    </tr>\n",
              "    <tr>\n",
              "      <th>25%</th>\n",
              "      <td>33.636309</td>\n",
              "      <td>-96.803057</td>\n",
              "    </tr>\n",
              "    <tr>\n",
              "      <th>50%</th>\n",
              "      <td>37.997045</td>\n",
              "      <td>-85.331567</td>\n",
              "    </tr>\n",
              "    <tr>\n",
              "      <th>75%</th>\n",
              "      <td>40.868882</td>\n",
              "      <td>-78.844330</td>\n",
              "    </tr>\n",
              "    <tr>\n",
              "      <th>max</th>\n",
              "      <td>71.297375</td>\n",
              "      <td>145.728316</td>\n",
              "    </tr>\n",
              "  </tbody>\n",
              "</table>\n",
              "</div>\n",
              "    <div class=\"colab-df-buttons\">\n",
              "\n",
              "  <div class=\"colab-df-container\">\n",
              "    <button class=\"colab-df-convert\" onclick=\"convertToInteractive('df-a669fd25-e3b2-4545-9ba2-c963642d6936')\"\n",
              "            title=\"Convert this dataframe to an interactive table.\"\n",
              "            style=\"display:none;\">\n",
              "\n",
              "  <svg xmlns=\"http://www.w3.org/2000/svg\" height=\"24px\" viewBox=\"0 -960 960 960\">\n",
              "    <path d=\"M120-120v-720h720v720H120Zm60-500h600v-160H180v160Zm220 220h160v-160H400v160Zm0 220h160v-160H400v160ZM180-400h160v-160H180v160Zm440 0h160v-160H620v160ZM180-180h160v-160H180v160Zm440 0h160v-160H620v160Z\"/>\n",
              "  </svg>\n",
              "    </button>\n",
              "\n",
              "  <style>\n",
              "    .colab-df-container {\n",
              "      display:flex;\n",
              "      gap: 12px;\n",
              "    }\n",
              "\n",
              "    .colab-df-convert {\n",
              "      background-color: #E8F0FE;\n",
              "      border: none;\n",
              "      border-radius: 50%;\n",
              "      cursor: pointer;\n",
              "      display: none;\n",
              "      fill: #1967D2;\n",
              "      height: 32px;\n",
              "      padding: 0 0 0 0;\n",
              "      width: 32px;\n",
              "    }\n",
              "\n",
              "    .colab-df-convert:hover {\n",
              "      background-color: #E2EBFA;\n",
              "      box-shadow: 0px 1px 2px rgba(60, 64, 67, 0.3), 0px 1px 3px 1px rgba(60, 64, 67, 0.15);\n",
              "      fill: #174EA6;\n",
              "    }\n",
              "\n",
              "    .colab-df-buttons div {\n",
              "      margin-bottom: 4px;\n",
              "    }\n",
              "\n",
              "    [theme=dark] .colab-df-convert {\n",
              "      background-color: #3B4455;\n",
              "      fill: #D2E3FC;\n",
              "    }\n",
              "\n",
              "    [theme=dark] .colab-df-convert:hover {\n",
              "      background-color: #434B5C;\n",
              "      box-shadow: 0px 1px 3px 1px rgba(0, 0, 0, 0.15);\n",
              "      filter: drop-shadow(0px 1px 2px rgba(0, 0, 0, 0.3));\n",
              "      fill: #FFFFFF;\n",
              "    }\n",
              "  </style>\n",
              "\n",
              "    <script>\n",
              "      const buttonEl =\n",
              "        document.querySelector('#df-a669fd25-e3b2-4545-9ba2-c963642d6936 button.colab-df-convert');\n",
              "      buttonEl.style.display =\n",
              "        google.colab.kernel.accessAllowed ? 'block' : 'none';\n",
              "\n",
              "      async function convertToInteractive(key) {\n",
              "        const element = document.querySelector('#df-a669fd25-e3b2-4545-9ba2-c963642d6936');\n",
              "        const dataTable =\n",
              "          await google.colab.kernel.invokeFunction('convertToInteractive',\n",
              "                                                    [key], {});\n",
              "        if (!dataTable) return;\n",
              "\n",
              "        const docLinkHtml = 'Like what you see? Visit the ' +\n",
              "          '<a target=\"_blank\" href=https://colab.research.google.com/notebooks/data_table.ipynb>data table notebook</a>'\n",
              "          + ' to learn more about interactive tables.';\n",
              "        element.innerHTML = '';\n",
              "        dataTable['output_type'] = 'display_data';\n",
              "        await google.colab.output.renderOutput(dataTable, element);\n",
              "        const docLink = document.createElement('div');\n",
              "        docLink.innerHTML = docLinkHtml;\n",
              "        element.appendChild(docLink);\n",
              "      }\n",
              "    </script>\n",
              "  </div>\n",
              "\n",
              "\n",
              "<div id=\"df-0775a69b-9291-49e6-836f-56daf16aae06\">\n",
              "  <button class=\"colab-df-quickchart\" onclick=\"quickchart('df-0775a69b-9291-49e6-836f-56daf16aae06')\"\n",
              "            title=\"Suggest charts\"\n",
              "            style=\"display:none;\">\n",
              "\n",
              "<svg xmlns=\"http://www.w3.org/2000/svg\" height=\"24px\"viewBox=\"0 0 24 24\"\n",
              "     width=\"24px\">\n",
              "    <g>\n",
              "        <path d=\"M19 3H5c-1.1 0-2 .9-2 2v14c0 1.1.9 2 2 2h14c1.1 0 2-.9 2-2V5c0-1.1-.9-2-2-2zM9 17H7v-7h2v7zm4 0h-2V7h2v10zm4 0h-2v-4h2v4z\"/>\n",
              "    </g>\n",
              "</svg>\n",
              "  </button>\n",
              "\n",
              "<style>\n",
              "  .colab-df-quickchart {\n",
              "      --bg-color: #E8F0FE;\n",
              "      --fill-color: #1967D2;\n",
              "      --hover-bg-color: #E2EBFA;\n",
              "      --hover-fill-color: #174EA6;\n",
              "      --disabled-fill-color: #AAA;\n",
              "      --disabled-bg-color: #DDD;\n",
              "  }\n",
              "\n",
              "  [theme=dark] .colab-df-quickchart {\n",
              "      --bg-color: #3B4455;\n",
              "      --fill-color: #D2E3FC;\n",
              "      --hover-bg-color: #434B5C;\n",
              "      --hover-fill-color: #FFFFFF;\n",
              "      --disabled-bg-color: #3B4455;\n",
              "      --disabled-fill-color: #666;\n",
              "  }\n",
              "\n",
              "  .colab-df-quickchart {\n",
              "    background-color: var(--bg-color);\n",
              "    border: none;\n",
              "    border-radius: 50%;\n",
              "    cursor: pointer;\n",
              "    display: none;\n",
              "    fill: var(--fill-color);\n",
              "    height: 32px;\n",
              "    padding: 0;\n",
              "    width: 32px;\n",
              "  }\n",
              "\n",
              "  .colab-df-quickchart:hover {\n",
              "    background-color: var(--hover-bg-color);\n",
              "    box-shadow: 0 1px 2px rgba(60, 64, 67, 0.3), 0 1px 3px 1px rgba(60, 64, 67, 0.15);\n",
              "    fill: var(--button-hover-fill-color);\n",
              "  }\n",
              "\n",
              "  .colab-df-quickchart-complete:disabled,\n",
              "  .colab-df-quickchart-complete:disabled:hover {\n",
              "    background-color: var(--disabled-bg-color);\n",
              "    fill: var(--disabled-fill-color);\n",
              "    box-shadow: none;\n",
              "  }\n",
              "\n",
              "  .colab-df-spinner {\n",
              "    border: 2px solid var(--fill-color);\n",
              "    border-color: transparent;\n",
              "    border-bottom-color: var(--fill-color);\n",
              "    animation:\n",
              "      spin 1s steps(1) infinite;\n",
              "  }\n",
              "\n",
              "  @keyframes spin {\n",
              "    0% {\n",
              "      border-color: transparent;\n",
              "      border-bottom-color: var(--fill-color);\n",
              "      border-left-color: var(--fill-color);\n",
              "    }\n",
              "    20% {\n",
              "      border-color: transparent;\n",
              "      border-left-color: var(--fill-color);\n",
              "      border-top-color: var(--fill-color);\n",
              "    }\n",
              "    30% {\n",
              "      border-color: transparent;\n",
              "      border-left-color: var(--fill-color);\n",
              "      border-top-color: var(--fill-color);\n",
              "      border-right-color: var(--fill-color);\n",
              "    }\n",
              "    40% {\n",
              "      border-color: transparent;\n",
              "      border-right-color: var(--fill-color);\n",
              "      border-top-color: var(--fill-color);\n",
              "    }\n",
              "    60% {\n",
              "      border-color: transparent;\n",
              "      border-right-color: var(--fill-color);\n",
              "    }\n",
              "    80% {\n",
              "      border-color: transparent;\n",
              "      border-right-color: var(--fill-color);\n",
              "      border-bottom-color: var(--fill-color);\n",
              "    }\n",
              "    90% {\n",
              "      border-color: transparent;\n",
              "      border-bottom-color: var(--fill-color);\n",
              "    }\n",
              "  }\n",
              "</style>\n",
              "\n",
              "  <script>\n",
              "    async function quickchart(key) {\n",
              "      const quickchartButtonEl =\n",
              "        document.querySelector('#' + key + ' button');\n",
              "      quickchartButtonEl.disabled = true;  // To prevent multiple clicks.\n",
              "      quickchartButtonEl.classList.add('colab-df-spinner');\n",
              "      try {\n",
              "        const charts = await google.colab.kernel.invokeFunction(\n",
              "            'suggestCharts', [key], {});\n",
              "      } catch (error) {\n",
              "        console.error('Error during call to suggestCharts:', error);\n",
              "      }\n",
              "      quickchartButtonEl.classList.remove('colab-df-spinner');\n",
              "      quickchartButtonEl.classList.add('colab-df-quickchart-complete');\n",
              "    }\n",
              "    (() => {\n",
              "      let quickchartButtonEl =\n",
              "        document.querySelector('#df-0775a69b-9291-49e6-836f-56daf16aae06 button');\n",
              "      quickchartButtonEl.style.display =\n",
              "        google.colab.kernel.accessAllowed ? 'block' : 'none';\n",
              "    })();\n",
              "  </script>\n",
              "</div>\n",
              "\n",
              "    </div>\n",
              "  </div>\n"
            ],
            "application/vnd.google.colaboratory.intrinsic+json": {
              "type": "dataframe",
              "summary": "{\n  \"name\": \"covid_data\",\n  \"rows\": 8,\n  \"fields\": [\n    {\n      \"column\": \"Latitude\",\n      \"properties\": {\n        \"dtype\": \"number\",\n        \"std\": 23268.676562757104,\n        \"min\": 5.600009190869614,\n        \"max\": 65848.0,\n        \"num_unique_values\": 8,\n        \"samples\": [\n          36.99708126795969,\n          37.9970445,\n          65848.0\n        ],\n        \"semantic_type\": \"\",\n        \"description\": \"\"\n      }\n    },\n    {\n      \"column\": \"Longitude\",\n      \"properties\": {\n        \"dtype\": \"number\",\n        \"std\": 23298.589162499724,\n        \"min\": -159.672639,\n        \"max\": 65848.0,\n        \"num_unique_values\": 8,\n        \"samples\": [\n          -89.9415458060175,\n          -85.33156650000001,\n          65848.0\n        ],\n        \"semantic_type\": \"\",\n        \"description\": \"\"\n      }\n    }\n  ]\n}"
            }
          },
          "metadata": {},
          "execution_count": 182
        }
      ]
    },
    {
      "cell_type": "code",
      "source": [
        "covid_data.isna().any(axis=1).sum()\n"
      ],
      "metadata": {
        "colab": {
          "base_uri": "https://localhost:8080/"
        },
        "id": "ugMfnHlgJ-1p",
        "outputId": "fafa0b78-0b3f-4303-bb25-730b6fb66a80"
      },
      "execution_count": null,
      "outputs": [
        {
          "output_type": "execute_result",
          "data": {
            "text/plain": [
              "65374"
            ]
          },
          "metadata": {},
          "execution_count": 183
        }
      ]
    },
    {
      "cell_type": "markdown",
      "source": [
        "### Defining Features and Target"
      ],
      "metadata": {
        "id": "CGp4hTyZpy4c"
      }
    },
    {
      "cell_type": "code",
      "source": [
        "features=[\"Provider Name\",\"Address 1\",\"City\",\"State\",\"Zip\",\n",
        "            \"Public Phone\", \"Last Report Date\", \"Is Flu\",\n",
        "            \"Has Paxlovid\", \"Has Lagevrio\", \"Has Veklury\",\n",
        "            \"Has Oseltamivir Generic\", \"Has Oseltamivir Suspension\", \"Has Oseltamivir Tamiflu\",\n",
        "            \"Has Baloxavir\", \"Has Zanamivir\", \"Has Peramivir\"]\n",
        "target_col=\"Is COVID-19\"\n",
        "unwanted_col=[\"Latitude\", \"Longitude\",\"Geopoint\",\"Address 2\" ,\"Prescribing Services Available\", \"Appointment URL\",\"Grantee Code\"]"
      ],
      "metadata": {
        "id": "xE87ibdftkrU"
      },
      "execution_count": null,
      "outputs": []
    },
    {
      "cell_type": "code",
      "source": [
        "covid_data=covid_data.drop(columns='unwanted_cols',errors='ignore')"
      ],
      "metadata": {
        "id": "RI39kTiXTjTV"
      },
      "execution_count": null,
      "outputs": []
    },
    {
      "cell_type": "code",
      "source": [
        "covid_data=covid_data.sample(n=10000, random_state=42, replace=False)\n",
        "print(covid_data)\n",
        "\n"
      ],
      "metadata": {
        "colab": {
          "base_uri": "https://localhost:8080/"
        },
        "id": "Ipufbxqbuc8i",
        "outputId": "3204d59a-3d98-4d5d-b90c-78ad98d61312"
      },
      "execution_count": null,
      "outputs": [
        {
          "output_type": "stream",
          "name": "stdout",
          "text": [
            "                       Provider Name                   Address 1  Address 2  \\\n",
            "31438           STOP & SHOP PHARMACY               1185 BROAD ST        NaN   \n",
            "23189          PUBLIX PHARMACY #0646           7525 ROSWELL ROAD        NaN   \n",
            "501                BAYSHORE PHARMACY           6229 14TH ST WEST        NaN   \n",
            "21929                 GIANT PHARMACY         200 DOVE RUN CENTER        NaN   \n",
            "11607       WALMART PHARMACY 10-1628  5500 MILAN ROAD, SUITE 200        NaN   \n",
            "...                              ...                         ...        ...   \n",
            "32240  ONPOINT PHARMACY OF SMITHTOWN       260 MIDDLE COUNTRY RD  SUITE 105   \n",
            "60828         THOMAS FAMILY PHARMACY       4605 MACCORKLE AVE SW        NaN   \n",
            "55708            CVS PHARMACY #02405               955 N 21ST ST        NaN   \n",
            "2601                WALGREENS #09515   1301 AVENUE OF THE CITIES        NaN   \n",
            "13813   HAWTHORNE WINNSBORO PHARMACY      110 S. CONGRESS STREET        NaN   \n",
            "\n",
            "                   City State         Zip  Public Phone   Latitude  Longitude  \\\n",
            "31438           CLIFTON    NJ       07013  973-778-2800  40.855731 -74.176517   \n",
            "23189           ATLANTA    GA       30350           NaN  33.960981 -84.363859   \n",
            "501           BRADENTON    FL  34207-4611           NaN  27.430028 -82.575202   \n",
            "21929        MIDDLETOWN    DE       19709  302-828-9181  39.453942 -75.688242   \n",
            "11607          SANDUSKY    OH       44870           NaN  41.403840 -82.652880   \n",
            "...                 ...   ...         ...           ...        ...        ...   \n",
            "32240         SMITHTOWN    NY       11787           NaN  40.855103 -73.180206   \n",
            "60828  SOUTH CHARLESTON    WV       25309           NaN  38.353160 -81.726000   \n",
            "55708            NEWARK    OH       43055  740-366-9082  40.074186 -82.429290   \n",
            "2601        EAST MOLINE    IL  61244-4114  309-755-0325  41.490971 -90.431383   \n",
            "13813         WINNSBORO    SC       29180           NaN  34.380347 -81.085896   \n",
            "\n",
            "                           Geopoint  ... Has Veklury  Has Oseltamivir Generic  \\\n",
            "31438  POINT (-74.176517 40.855731)  ...       False                    False   \n",
            "23189  POINT (-84.363859 33.960981)  ...       False                    False   \n",
            "501    POINT (-82.575202 27.430028)  ...       False                    False   \n",
            "21929  POINT (-75.688242 39.453942)  ...       False                    False   \n",
            "11607    POINT (-82.65288 41.40384)  ...       False                    False   \n",
            "...                             ...  ...         ...                      ...   \n",
            "32240  POINT (-73.180206 40.855103)  ...       False                    False   \n",
            "60828      POINT (-81.726 38.35316)  ...       False                    False   \n",
            "55708   POINT (-82.42929 40.074186)  ...       False                     True   \n",
            "2601   POINT (-90.431383 41.490971)  ...       False                     True   \n",
            "13813  POINT (-81.085896 34.380347)  ...       False                    False   \n",
            "\n",
            "      Has Oseltamivir Suspension Has Oseltamivir Tamiflu  Has Baloxavir  \\\n",
            "31438                      False                   False          False   \n",
            "23189                      False                   False          False   \n",
            "501                        False                   False          False   \n",
            "21929                      False                   False          False   \n",
            "11607                      False                   False          False   \n",
            "...                          ...                     ...            ...   \n",
            "32240                      False                   False          False   \n",
            "60828                      False                   False          False   \n",
            "55708                       True                   False          False   \n",
            "2601                       False                   False           True   \n",
            "13813                      False                   False          False   \n",
            "\n",
            "       Has Zanamivir  Has Peramivir  Grantee Code  Is Flu  Is COVID-19  \n",
            "31438          False          False           AD1   False         True  \n",
            "23189          False          False           PX1   False         True  \n",
            "501            False          False           FLA   False         True  \n",
            "21929          False          False           AD1   False         True  \n",
            "11607          False          False           WM1   False         True  \n",
            "...              ...            ...           ...     ...          ...  \n",
            "32240          False          False           MS1   False         True  \n",
            "60828          False          False           WVA   False         True  \n",
            "55708          False          False           CV1    True         True  \n",
            "2601           False          False           WG1    True         True  \n",
            "13813          False          False           NaN   False         True  \n",
            "\n",
            "[10000 rows x 34 columns]\n"
          ]
        }
      ]
    },
    {
      "cell_type": "code",
      "source": [
        "X=covid_data[features]\n",
        "y=covid_data[target_col]"
      ],
      "metadata": {
        "id": "q5yjJPLywXI2"
      },
      "execution_count": null,
      "outputs": []
    },
    {
      "cell_type": "code",
      "source": [
        "# Encode target variable if categorical\n",
        "if covid_data[target_col].dtype == 'object':\n",
        "    y = LabelEncoder().fit_transform(y)"
      ],
      "metadata": {
        "id": "MI_vcsdPsVAu"
      },
      "execution_count": null,
      "outputs": []
    },
    {
      "cell_type": "markdown",
      "source": [
        "### Splitting data into training and test sets"
      ],
      "metadata": {
        "id": "4JketsxQqAT1"
      }
    },
    {
      "cell_type": "code",
      "source": [
        "# Split data into training and testing sets\n",
        "X_train, X_test, y_train, y_test = train_test_split(X, y, test_size=0.2, random_state=42)"
      ],
      "metadata": {
        "id": "blIZrhMiUZDF"
      },
      "execution_count": null,
      "outputs": []
    },
    {
      "cell_type": "markdown",
      "source": [
        "### Performing Linear Regression"
      ],
      "metadata": {
        "id": "S50rCRV1qEja"
      }
    },
    {
      "cell_type": "code",
      "source": [
        "# Create a ColumnTransformer to handle categorical and numerical features\n",
        "categorical_cols = X_train.select_dtypes(include=['object']).columns\n",
        "numerical_cols = X_train.select_dtypes(exclude=['object']).columns"
      ],
      "metadata": {
        "id": "-fxOP5Btu0YI"
      },
      "execution_count": null,
      "outputs": []
    },
    {
      "cell_type": "code",
      "source": [
        "#preprocessing\n",
        "from sklearn.impute import SimpleImputer\n",
        "\n",
        "preprocessor = ColumnTransformer(\n",
        "    transformers=[\n",
        "        ('num', SimpleImputer(strategy='mean'), numerical_cols),  # Handle numerical features\n",
        "        ('cat', OneHotEncoder(sparse_output=True, handle_unknown='ignore', max_categories=10), categorical_cols)\n",
        "])"
      ],
      "metadata": {
        "id": "fvAh1OJ0u6RB"
      },
      "execution_count": null,
      "outputs": []
    },
    {
      "cell_type": "code",
      "source": [
        "from sklearn.linear_model import LinearRegression, LogisticRegression\n",
        "\n",
        "# Create a pipeline that first preprocesses the data and then fits the model\n",
        "model = Pipeline(steps=[\n",
        "    ('preprocessor', preprocessor),\n",
        "    ('classifier', LogisticRegression())\n",
        "])"
      ],
      "metadata": {
        "id": "6e63k8j5vQTW"
      },
      "execution_count": null,
      "outputs": []
    },
    {
      "cell_type": "code",
      "source": [
        "X_train = preprocessor.fit_transform(X_train)\n",
        "X_test = preprocessor.transform(X_test)\n"
      ],
      "metadata": {
        "id": "duHzDrFfv3Av"
      },
      "execution_count": null,
      "outputs": []
    },
    {
      "cell_type": "code",
      "source": [
        "# 1. Linear Regression (for continuous target)\n",
        "lin_reg = LinearRegression()\n",
        "lin_reg.fit(X_train, y_train)\n",
        "y_pred = lin_reg.predict(X_test)\n",
        "print(\"Linear Regression Accuracy:\",round(lin_reg.score(X_test, y_test), 4))\n",
        "print(\"Linear Regression MSE:\", round(mean_squared_error(y_test, y_pred), 4))"
      ],
      "metadata": {
        "colab": {
          "base_uri": "https://localhost:8080/"
        },
        "id": "6w576j6dv79j",
        "outputId": "9e721a4f-3f9f-4d06-e5a7-019d7edd5596"
      },
      "execution_count": null,
      "outputs": [
        {
          "output_type": "stream",
          "name": "stdout",
          "text": [
            "Linear Regression Accuracy: 0.2526\n",
            "Linear Regression MSE: 0.0081\n"
          ]
        }
      ]
    },
    {
      "cell_type": "markdown",
      "source": [
        "### Evaluating the Model"
      ],
      "metadata": {
        "id": "2r6Dacr-VQYo"
      }
    },
    {
      "cell_type": "code",
      "source": [
        "from sklearn.metrics import r2_score\n",
        "import numpy as np\n",
        "from sklearn.linear_model import LinearRegression\n",
        "from sklearn.model_selection import train_test_split\n",
        "from sklearn.metrics import mean_squared_error\n",
        "\n",
        "# Evaluate the model\n",
        "mse = mean_squared_error(y_test, y_pred)\n",
        "rmse = np.sqrt(mse)\n",
        "print(f\"Mean Squared Error: {mse}\")\n",
        "print(f\"Root Mean Squared Error: {rmse}\")\n",
        "r2 = r2_score(y_test, y_pred) # Calculate R-squared\n",
        "print(f\"R-squared: {r2}\")"
      ],
      "metadata": {
        "colab": {
          "base_uri": "https://localhost:8080/"
        },
        "id": "Xlu-_lrIVaT2",
        "outputId": "dd741eab-3e93-4cdc-aa21-d941aefacfdc"
      },
      "execution_count": null,
      "outputs": [
        {
          "output_type": "stream",
          "name": "stdout",
          "text": [
            "Mean Squared Error: 0.008131473402161261\n",
            "Root Mean Squared Error: 0.09017468271173046\n",
            "R-squared: 0.2525532307968327\n"
          ]
        }
      ]
    },
    {
      "cell_type": "markdown",
      "source": [
        "### Performing Support Vector Machine"
      ],
      "metadata": {
        "id": "KTiPfzauZTEF"
      }
    },
    {
      "cell_type": "markdown",
      "source": [
        "### Scaling numerical features"
      ],
      "metadata": {
        "id": "acsOQRK0ZaB_"
      }
    },
    {
      "cell_type": "code",
      "source": [
        "# 2. Logistic Regression (for classification)\n",
        "log_reg = LogisticRegression()\n",
        "log_reg.fit(X_train, y_train)\n",
        "y_pred_log = log_reg.predict(X_test)\n",
        "print(\"Logistic Regression Accuracy:\", (accuracy_score(y_test, y_pred_log)))\n",
        "print(\"Logistic Regression MSE:\", round(mean_squared_error(y_test, y_pred_log), 4))"
      ],
      "metadata": {
        "id": "mheN0GHGaaL9",
        "colab": {
          "base_uri": "https://localhost:8080/"
        },
        "outputId": "b2f935ee-05bd-4d82-f06d-ce34cc5b0211"
      },
      "execution_count": null,
      "outputs": [
        {
          "output_type": "stream",
          "name": "stdout",
          "text": [
            "Logistic Regression Accuracy: 1.0\n",
            "Logistic Regression MSE: 0.0\n"
          ]
        }
      ]
    },
    {
      "cell_type": "code",
      "source": [
        "# 3. Support Vector Machine (SVM)\n",
        "svm = SVC(C=0.01, kernel='poly', degree=2, gamma=10)\n",
        "svm.fit(X_train, y_train)\n",
        "y_pred_svm = svm.predict(X_test)\n",
        "print(\"SVM Accuracy:\", round(accuracy_score(y_test, y_pred_svm), 4))\n",
        "print(\"SVM MSE:\", round(mean_squared_error(y_test, y_pred_svm), 4))"
      ],
      "metadata": {
        "colab": {
          "base_uri": "https://localhost:8080/"
        },
        "id": "9CE7MzxrZ-_q",
        "outputId": "9d3e6c2a-6224-449b-f349-3187a530e358"
      },
      "execution_count": null,
      "outputs": [
        {
          "output_type": "stream",
          "name": "stdout",
          "text": [
            "SVM Accuracy: 0.998\n",
            "SVM MSE: 0.002\n"
          ]
        }
      ]
    },
    {
      "cell_type": "code",
      "source": [
        "from sklearn.tree import DecisionTreeClassifier\n"
      ],
      "metadata": {
        "id": "1yO4tRwegLt8"
      },
      "execution_count": null,
      "outputs": []
    },
    {
      "cell_type": "code",
      "source": [
        "# 4. Decision Tree Classifier\n",
        "dt = DecisionTreeClassifier()\n",
        "dt.fit(X_train, y_train)\n",
        "y_pred_dt = dt.predict(X_test)\n",
        "print(\"Decision Tree Accuracy:\", round(accuracy_score(y_test, y_pred_dt), 4))\n",
        "print(\"Decision Tree MSE:\", round(mean_squared_error(y_test, y_pred_dt), 4))"
      ],
      "metadata": {
        "colab": {
          "base_uri": "https://localhost:8080/"
        },
        "id": "KRwh6meXxBQb",
        "outputId": "f41ed75b-45e5-4074-bbb5-2d589ffbef36"
      },
      "execution_count": null,
      "outputs": [
        {
          "output_type": "stream",
          "name": "stdout",
          "text": [
            "Decision Tree Accuracy: 1.0\n",
            "Decision Tree MSE: 0.0\n"
          ]
        }
      ]
    },
    {
      "cell_type": "code",
      "source": [
        "# 5. Random Forest Classifier\n",
        "rf = RandomForestClassifier(n_estimators=1000, max_depth=2, max_features='sqrt', random_state=42)\n",
        "rf.fit(X_train, y_train)\n",
        "y_pred_rf = rf.predict(X_test)\n",
        "print(\"Random Forest Accuracy:\", (accuracy_score(y_test, y_pred_rf)))\n",
        "print(\"Random Forest MSE:\", round(mean_squared_error(y_test, y_pred_rf), 4))"
      ],
      "metadata": {
        "id": "vXbVR7FihEVW",
        "colab": {
          "base_uri": "https://localhost:8080/"
        },
        "outputId": "3340e88b-05ea-455a-9c64-5c963eb15319"
      },
      "execution_count": null,
      "outputs": [
        {
          "output_type": "stream",
          "name": "stdout",
          "text": [
            "Random Forest Accuracy: 0.989\n",
            "Random Forest MSE: 0.011\n"
          ]
        }
      ]
    },
    {
      "cell_type": "code",
      "source": [
        "\n",
        "# Initialize lists to store results\n",
        "models = ['Linear Regression', 'Logistic Regression', 'SVM','Random Forest','Decision Tree']\n",
        "accuracy = []\n",
        "mse = []\n"
      ],
      "metadata": {
        "id": "AoPfp1u_zQgi"
      },
      "execution_count": null,
      "outputs": []
    },
    {
      "cell_type": "code",
      "source": [
        "# 1. Linear Regression (for continuous target)\n",
        "lin_reg = LinearRegression()\n",
        "lin_reg.fit(X_train, y_train)\n",
        "y_pred = lin_reg.predict(X_test)\n",
        "accuracy.append(lin_reg.score(X_test, y_test))\n",
        "mse.append(mean_squared_error(y_test, y_pred))"
      ],
      "metadata": {
        "id": "9d5aIbhPyzT6"
      },
      "execution_count": null,
      "outputs": []
    },
    {
      "cell_type": "code",
      "source": [
        "# 2. Logistic Regression (for classification)\n",
        "log_reg = LogisticRegression()\n",
        "log_reg.fit(X_train, y_train)\n",
        "y_pred_log = log_reg.predict(X_test)\n",
        "accuracy.append(accuracy_score(y_test, y_pred_log))\n",
        "mse.append(mean_squared_error(y_test, y_pred_log))"
      ],
      "metadata": {
        "id": "9mYAiSjxzai-"
      },
      "execution_count": null,
      "outputs": []
    },
    {
      "cell_type": "code",
      "source": [
        "# 3. Support Vector Machine (SVM)\n",
        "svm = SVC()\n",
        "svm.fit(X_train, y_train)\n",
        "y_pred_svm = svm.predict(X_test)\n",
        "accuracy.append(accuracy_score(y_test, y_pred_svm))\n",
        "mse.append(mean_squared_error(y_test, y_pred_svm))"
      ],
      "metadata": {
        "id": "eETL7EBuzdHd"
      },
      "execution_count": null,
      "outputs": []
    },
    {
      "cell_type": "code",
      "source": [
        "# 4. Decision Tree Classifier\n",
        "dt = DecisionTreeClassifier()\n",
        "dt.fit(X_train, y_train)\n",
        "y_pred_dt = dt.predict(X_test)\n",
        "accuracy.append(accuracy_score(y_test, y_pred_dt))\n",
        "mse.append(mean_squared_error(y_test, y_pred_dt))"
      ],
      "metadata": {
        "id": "faApobcazerl"
      },
      "execution_count": null,
      "outputs": []
    },
    {
      "cell_type": "code",
      "source": [
        "\n",
        "# 5. Random Forest Classifier\n",
        "rf = RandomForestClassifier(n_estimators=100, random_state=42)\n",
        "rf.fit(X_train, y_train)\n",
        "y_pred_rf = rf.predict(X_test)\n",
        "accuracy.append(accuracy_score(y_test, y_pred_rf))\n",
        "mse.append(mean_squared_error(y_test, y_pred_rf))"
      ],
      "metadata": {
        "id": "AOaW6Yr7zgG7"
      },
      "execution_count": null,
      "outputs": []
    },
    {
      "cell_type": "code",
      "source": [
        "# Create a figure and axes for the plot\n",
        "fig, ax1 = plt.subplots(figsize=(10, 6))\n",
        "\n",
        "# Create bar plots for accuracy\n",
        "ax1.bar(models, accuracy, color='b', width=0.4, label='Accuracy', align='center')\n",
        "ax1.set_xlabel('Models')\n",
        "ax1.set_ylabel('Accuracy', color='b')\n",
        "ax1.tick_params(axis='y', labelcolor='b')\n",
        "\n",
        "\n",
        "# Create a second y-axis for MSE\n",
        "ax2 = ax1.twinx()\n",
        "ax2.bar(models, mse, color='r', width=0.4, label='MSE', align='edge')\n",
        "ax2.set_ylabel('MSE', color='r')\n",
        "ax2.tick_params(axis='y', labelcolor='r')\n",
        "\n",
        "\n",
        "# Add title and show plot\n",
        "plt.title('Model Comparison: Accuracy vs MSE')\n",
        "fig.tight_layout()\n",
        "plt.show()"
      ],
      "metadata": {
        "colab": {
          "base_uri": "https://localhost:8080/",
          "height": 607
        },
        "id": "Hfm52xeUzhk4",
        "outputId": "318d19aa-0d15-4072-edb6-6144e52e170d"
      },
      "execution_count": null,
      "outputs": [
        {
          "output_type": "display_data",
          "data": {
            "text/plain": [
              "<Figure size 1000x600 with 2 Axes>"
            ],
            "image/png": "[encoded data removed]"
          },
          "metadata": {}
        }
      ]
    }
  ]
}